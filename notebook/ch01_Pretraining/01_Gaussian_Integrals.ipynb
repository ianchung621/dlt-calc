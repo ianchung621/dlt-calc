{
 "cells": [
  {
   "cell_type": "markdown",
   "id": "60dcf8c6",
   "metadata": {},
   "source": [
    "# Gaussian Integrals"
   ]
  },
  {
   "cell_type": "code",
   "execution_count": 1,
   "id": "d99494e3",
   "metadata": {},
   "outputs": [],
   "source": [
    "import sympy as sp\n",
    "from symdl.random import ExpVal\n",
    "from symdl.gaussian import wick_contraction, GaussianIndexedBase\n",
    "from symdl.utils import wilds"
   ]
  },
  {
   "cell_type": "code",
   "execution_count": 2,
   "id": "7e192c03",
   "metadata": {},
   "outputs": [],
   "source": [
    "mu1, mu2, mu3, mu4, mu5, mu6 = sp.symbols('mu1, mu2, mu3, mu4, mu5, mu6', integer = True)\n",
    "z = GaussianIndexedBase('z')\n",
    "K = sp.IndexedBase('K')"
   ]
  },
  {
   "cell_type": "code",
   "execution_count": 3,
   "id": "7723c90d",
   "metadata": {},
   "outputs": [
    {
     "data": {
      "text/latex": [
       "$\\displaystyle \\mathbb{E}\\left[{z}_{\\mu_{1}} {z}_{\\mu_{2}} {z}_{\\mu_{3}} {z}_{\\mu_{4}} {z}_{\\mu_{5}} {z}_{\\mu_{6}}\\right]$"
      ],
      "text/plain": [
       "𝔼[z[mu1]*z[mu2]*z[mu3]*z[mu4]*z[mu5]*z[mu6]]"
      ]
     },
     "execution_count": 3,
     "metadata": {},
     "output_type": "execute_result"
    }
   ],
   "source": [
    "Ez6: sp.Basic = ExpVal(z[mu1]*z[mu2]*z[mu3]*z[mu4]*z[mu5]*z[mu6])\n",
    "Ez6"
   ]
  },
  {
   "cell_type": "markdown",
   "id": "b9b2a703",
   "metadata": {},
   "source": [
    "## Wick’s theorem"
   ]
  },
  {
   "cell_type": "code",
   "execution_count": 4,
   "id": "f1fe2d91",
   "metadata": {},
   "outputs": [
    {
     "data": {
      "text/latex": [
       "$\\displaystyle \\mathbb{E}\\left[{z}_{\\mu_{1}} {z}_{\\mu_{2}}\\right] \\mathbb{E}\\left[{z}_{\\mu_{3}} {z}_{\\mu_{4}}\\right] \\mathbb{E}\\left[{z}_{\\mu_{5}} {z}_{\\mu_{6}}\\right] + \\mathbb{E}\\left[{z}_{\\mu_{1}} {z}_{\\mu_{2}}\\right] \\mathbb{E}\\left[{z}_{\\mu_{3}} {z}_{\\mu_{5}}\\right] \\mathbb{E}\\left[{z}_{\\mu_{4}} {z}_{\\mu_{6}}\\right] + \\mathbb{E}\\left[{z}_{\\mu_{1}} {z}_{\\mu_{2}}\\right] \\mathbb{E}\\left[{z}_{\\mu_{3}} {z}_{\\mu_{6}}\\right] \\mathbb{E}\\left[{z}_{\\mu_{4}} {z}_{\\mu_{5}}\\right] + \\mathbb{E}\\left[{z}_{\\mu_{1}} {z}_{\\mu_{3}}\\right] \\mathbb{E}\\left[{z}_{\\mu_{2}} {z}_{\\mu_{4}}\\right] \\mathbb{E}\\left[{z}_{\\mu_{5}} {z}_{\\mu_{6}}\\right] + \\mathbb{E}\\left[{z}_{\\mu_{1}} {z}_{\\mu_{3}}\\right] \\mathbb{E}\\left[{z}_{\\mu_{2}} {z}_{\\mu_{5}}\\right] \\mathbb{E}\\left[{z}_{\\mu_{4}} {z}_{\\mu_{6}}\\right] + \\mathbb{E}\\left[{z}_{\\mu_{1}} {z}_{\\mu_{3}}\\right] \\mathbb{E}\\left[{z}_{\\mu_{2}} {z}_{\\mu_{6}}\\right] \\mathbb{E}\\left[{z}_{\\mu_{4}} {z}_{\\mu_{5}}\\right] + \\mathbb{E}\\left[{z}_{\\mu_{1}} {z}_{\\mu_{4}}\\right] \\mathbb{E}\\left[{z}_{\\mu_{2}} {z}_{\\mu_{3}}\\right] \\mathbb{E}\\left[{z}_{\\mu_{5}} {z}_{\\mu_{6}}\\right] + \\mathbb{E}\\left[{z}_{\\mu_{1}} {z}_{\\mu_{4}}\\right] \\mathbb{E}\\left[{z}_{\\mu_{2}} {z}_{\\mu_{5}}\\right] \\mathbb{E}\\left[{z}_{\\mu_{3}} {z}_{\\mu_{6}}\\right] + \\mathbb{E}\\left[{z}_{\\mu_{1}} {z}_{\\mu_{4}}\\right] \\mathbb{E}\\left[{z}_{\\mu_{2}} {z}_{\\mu_{6}}\\right] \\mathbb{E}\\left[{z}_{\\mu_{3}} {z}_{\\mu_{5}}\\right] + \\mathbb{E}\\left[{z}_{\\mu_{1}} {z}_{\\mu_{5}}\\right] \\mathbb{E}\\left[{z}_{\\mu_{2}} {z}_{\\mu_{3}}\\right] \\mathbb{E}\\left[{z}_{\\mu_{4}} {z}_{\\mu_{6}}\\right] + \\mathbb{E}\\left[{z}_{\\mu_{1}} {z}_{\\mu_{5}}\\right] \\mathbb{E}\\left[{z}_{\\mu_{2}} {z}_{\\mu_{4}}\\right] \\mathbb{E}\\left[{z}_{\\mu_{3}} {z}_{\\mu_{6}}\\right] + \\mathbb{E}\\left[{z}_{\\mu_{1}} {z}_{\\mu_{5}}\\right] \\mathbb{E}\\left[{z}_{\\mu_{2}} {z}_{\\mu_{6}}\\right] \\mathbb{E}\\left[{z}_{\\mu_{3}} {z}_{\\mu_{4}}\\right] + \\mathbb{E}\\left[{z}_{\\mu_{1}} {z}_{\\mu_{6}}\\right] \\mathbb{E}\\left[{z}_{\\mu_{2}} {z}_{\\mu_{3}}\\right] \\mathbb{E}\\left[{z}_{\\mu_{4}} {z}_{\\mu_{5}}\\right] + \\mathbb{E}\\left[{z}_{\\mu_{1}} {z}_{\\mu_{6}}\\right] \\mathbb{E}\\left[{z}_{\\mu_{2}} {z}_{\\mu_{4}}\\right] \\mathbb{E}\\left[{z}_{\\mu_{3}} {z}_{\\mu_{5}}\\right] + \\mathbb{E}\\left[{z}_{\\mu_{1}} {z}_{\\mu_{6}}\\right] \\mathbb{E}\\left[{z}_{\\mu_{2}} {z}_{\\mu_{5}}\\right] \\mathbb{E}\\left[{z}_{\\mu_{3}} {z}_{\\mu_{4}}\\right]$"
      ],
      "text/plain": [
       "𝔼[z[mu1]*z[mu2]]*𝔼[z[mu3]*z[mu4]]*𝔼[z[mu5]*z[mu6]] + 𝔼[z[mu1]*z[mu2]]*𝔼[z[mu3]*z[mu5]]*𝔼[z[mu4]*z[mu6]] + 𝔼[z[mu1]*z[mu2]]*𝔼[z[mu3]*z[mu6]]*𝔼[z[mu4]*z[mu5]] + 𝔼[z[mu1]*z[mu3]]*𝔼[z[mu2]*z[mu4]]*𝔼[z[mu5]*z[mu6]] + 𝔼[z[mu1]*z[mu3]]*𝔼[z[mu2]*z[mu5]]*𝔼[z[mu4]*z[mu6]] + 𝔼[z[mu1]*z[mu3]]*𝔼[z[mu2]*z[mu6]]*𝔼[z[mu4]*z[mu5]] + 𝔼[z[mu1]*z[mu4]]*𝔼[z[mu2]*z[mu3]]*𝔼[z[mu5]*z[mu6]] + 𝔼[z[mu1]*z[mu4]]*𝔼[z[mu2]*z[mu5]]*𝔼[z[mu3]*z[mu6]] + 𝔼[z[mu1]*z[mu4]]*𝔼[z[mu2]*z[mu6]]*𝔼[z[mu3]*z[mu5]] + 𝔼[z[mu1]*z[mu5]]*𝔼[z[mu2]*z[mu3]]*𝔼[z[mu4]*z[mu6]] + 𝔼[z[mu1]*z[mu5]]*𝔼[z[mu2]*z[mu4]]*𝔼[z[mu3]*z[mu6]] + 𝔼[z[mu1]*z[mu5]]*𝔼[z[mu2]*z[mu6]]*𝔼[z[mu3]*z[mu4]] + 𝔼[z[mu1]*z[mu6]]*𝔼[z[mu2]*z[mu3]]*𝔼[z[mu4]*z[mu5]] + 𝔼[z[mu1]*z[mu6]]*𝔼[z[mu2]*z[mu4]]*𝔼[z[mu3]*z[mu5]] + 𝔼[z[mu1]*z[mu6]]*𝔼[z[mu2]*z[mu5]]*𝔼[z[mu3]*z[mu4]]"
      ]
     },
     "execution_count": 4,
     "metadata": {},
     "output_type": "execute_result"
    }
   ],
   "source": [
    "Ez6 = wick_contraction(Ez6)\n",
    "Ez6"
   ]
  },
  {
   "cell_type": "code",
   "execution_count": 5,
   "id": "2491f72a",
   "metadata": {},
   "outputs": [
    {
     "data": {
      "text/latex": [
       "$\\displaystyle {K}_{\\mu_{1},\\mu_{2}} {K}_{\\mu_{3},\\mu_{4}} {K}_{\\mu_{5},\\mu_{6}} + {K}_{\\mu_{1},\\mu_{2}} {K}_{\\mu_{3},\\mu_{5}} {K}_{\\mu_{4},\\mu_{6}} + {K}_{\\mu_{1},\\mu_{2}} {K}_{\\mu_{3},\\mu_{6}} {K}_{\\mu_{4},\\mu_{5}} + {K}_{\\mu_{1},\\mu_{3}} {K}_{\\mu_{2},\\mu_{4}} {K}_{\\mu_{5},\\mu_{6}} + {K}_{\\mu_{1},\\mu_{3}} {K}_{\\mu_{2},\\mu_{5}} {K}_{\\mu_{4},\\mu_{6}} + {K}_{\\mu_{1},\\mu_{3}} {K}_{\\mu_{2},\\mu_{6}} {K}_{\\mu_{4},\\mu_{5}} + {K}_{\\mu_{1},\\mu_{4}} {K}_{\\mu_{2},\\mu_{3}} {K}_{\\mu_{5},\\mu_{6}} + {K}_{\\mu_{1},\\mu_{4}} {K}_{\\mu_{2},\\mu_{5}} {K}_{\\mu_{3},\\mu_{6}} + {K}_{\\mu_{1},\\mu_{4}} {K}_{\\mu_{2},\\mu_{6}} {K}_{\\mu_{3},\\mu_{5}} + {K}_{\\mu_{1},\\mu_{5}} {K}_{\\mu_{2},\\mu_{3}} {K}_{\\mu_{4},\\mu_{6}} + {K}_{\\mu_{1},\\mu_{5}} {K}_{\\mu_{2},\\mu_{4}} {K}_{\\mu_{3},\\mu_{6}} + {K}_{\\mu_{1},\\mu_{5}} {K}_{\\mu_{2},\\mu_{6}} {K}_{\\mu_{3},\\mu_{4}} + {K}_{\\mu_{1},\\mu_{6}} {K}_{\\mu_{2},\\mu_{3}} {K}_{\\mu_{4},\\mu_{5}} + {K}_{\\mu_{1},\\mu_{6}} {K}_{\\mu_{2},\\mu_{4}} {K}_{\\mu_{3},\\mu_{5}} + {K}_{\\mu_{1},\\mu_{6}} {K}_{\\mu_{2},\\mu_{5}} {K}_{\\mu_{3},\\mu_{4}}$"
      ],
      "text/plain": [
       "K[mu1, mu2]*K[mu3, mu4]*K[mu5, mu6] + K[mu1, mu2]*K[mu3, mu5]*K[mu4, mu6] + K[mu1, mu2]*K[mu3, mu6]*K[mu4, mu5] + K[mu1, mu3]*K[mu2, mu4]*K[mu5, mu6] + K[mu1, mu3]*K[mu2, mu5]*K[mu4, mu6] + K[mu1, mu3]*K[mu2, mu6]*K[mu4, mu5] + K[mu1, mu4]*K[mu2, mu3]*K[mu5, mu6] + K[mu1, mu4]*K[mu2, mu5]*K[mu3, mu6] + K[mu1, mu4]*K[mu2, mu6]*K[mu3, mu5] + K[mu1, mu5]*K[mu2, mu3]*K[mu4, mu6] + K[mu1, mu5]*K[mu2, mu4]*K[mu3, mu6] + K[mu1, mu5]*K[mu2, mu6]*K[mu3, mu4] + K[mu1, mu6]*K[mu2, mu3]*K[mu4, mu5] + K[mu1, mu6]*K[mu2, mu4]*K[mu3, mu5] + K[mu1, mu6]*K[mu2, mu5]*K[mu3, mu4]"
      ]
     },
     "execution_count": 5,
     "metadata": {},
     "output_type": "execute_result"
    }
   ],
   "source": [
    "A, B = wilds('A, B')\n",
    "Ez6 = Ez6.replace(ExpVal(z[A]*z[B]), K[A, B])\n",
    "Ez6"
   ]
  }
 ],
 "metadata": {
  "kernelspec": {
   "display_name": "qml",
   "language": "python",
   "name": "python3"
  },
  "language_info": {
   "codemirror_mode": {
    "name": "ipython",
    "version": 3
   },
   "file_extension": ".py",
   "mimetype": "text/x-python",
   "name": "python",
   "nbconvert_exporter": "python",
   "pygments_lexer": "ipython3",
   "version": "3.12.10"
  }
 },
 "nbformat": 4,
 "nbformat_minor": 5
}
