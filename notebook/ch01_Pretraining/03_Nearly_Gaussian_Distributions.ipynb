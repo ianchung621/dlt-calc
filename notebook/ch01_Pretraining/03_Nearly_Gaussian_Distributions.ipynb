{
 "cells": [
  {
   "cell_type": "markdown",
   "id": "04d04dc4",
   "metadata": {},
   "source": [
    "# Nearly-Gaussian Distributions"
   ]
  },
  {
   "cell_type": "code",
   "execution_count": 1,
   "id": "bd35ede7",
   "metadata": {},
   "outputs": [],
   "source": [
    "import sympy as sp\n",
    "from symlib.random import ExpVal\n",
    "from symlib.gaussian import wick_contraction, GaussianIndexedBase, GaussianExpVal\n",
    "from symlib.utils import wilds, wild_subs, pull_sums_out_front"
   ]
  },
  {
   "cell_type": "markdown",
   "id": "ab38eb43",
   "metadata": {},
   "source": [
    "we have distribution \n",
    "$$\n",
    "p(z) \\equiv \\frac{e^{-S(z)}}{Z}\n",
    "$$\n",
    "where $S(z)$ is action and $Z$ is partition function, we consider model:\n",
    "$$\n",
    "S(z) = \\frac{1}{2} \\sum_{\\mu, \\nu = 1}^{N} K^{\\mu \\nu} z_\\mu z_\\nu \n",
    "+ \\frac{\\epsilon}{4!} \\sum_{\\mu, \\nu, \\rho, \\lambda = 1}^{N} \n",
    "V^{\\mu \\nu \\rho \\lambda} z_\\mu z_\\nu z_\\rho z_\\lambda\n",
    "$$\n",
    "where the second term is a small quartic_action"
   ]
  },
  {
   "cell_type": "code",
   "execution_count": 2,
   "id": "87eca7cb",
   "metadata": {},
   "outputs": [],
   "source": [
    "K = sp.IndexedBase('K')\n",
    "V = sp.IndexedBase('V')\n",
    "mu = sp.symbols('mu1:5', integer = True)\n",
    "rho = sp.symbols('rho1:5', integer = True)\n",
    "eps = sp.Symbol('epsilon')\n",
    "z = GaussianIndexedBase('z')\n",
    "N = sp.Symbol('N', integer = True)"
   ]
  },
  {
   "cell_type": "code",
   "execution_count": 3,
   "id": "4588b501",
   "metadata": {},
   "outputs": [
    {
     "data": {
      "text/latex": [
       "$\\displaystyle \\sqrt{|2\\pi K|}$"
      ],
      "text/plain": [
       "\\sqrt{|2\\pi K|}"
      ]
     },
     "execution_count": 3,
     "metadata": {},
     "output_type": "execute_result"
    }
   ],
   "source": [
    "Z0 = sp.Symbol('\\sqrt{|2\\pi K|}') #sp.sqrt(sp.Abs(2*sp.pi*K), evaluate=False)\n",
    "Z0 # partition function for quadratic action"
   ]
  },
  {
   "cell_type": "code",
   "execution_count": 4,
   "id": "a66e9b61",
   "metadata": {},
   "outputs": [
    {
     "data": {
      "text/latex": [
       "$\\displaystyle - \\epsilon \\sum_{\\substack{1 \\leq \\rho_{1} \\leq N\\\\1 \\leq \\rho_{2} \\leq N\\\\1 \\leq \\rho_{3} \\leq N\\\\1 \\leq \\rho_{4} \\leq N}} \\frac{{z}_{\\rho_{1}} {z}_{\\rho_{2}} {z}_{\\rho_{3}} {z}_{\\rho_{4}} {V}_{\\rho_{1},\\rho_{2},\\rho_{3},\\rho_{4}}}{24}$"
      ],
      "text/plain": [
       "-epsilon*Sum(z[rho1]*z[rho2]*z[rho3]*z[rho4]*V[rho1, rho2, rho3, rho4]/24, (rho1, 1, N), (rho2, 1, N), (rho3, 1, N), (rho4, 1, N))"
      ]
     },
     "execution_count": 4,
     "metadata": {},
     "output_type": "execute_result"
    }
   ],
   "source": [
    "quartic_action = - eps * sp.Sum(V[*rho]*z[rho[0]]*z[rho[1]]*z[rho[2]]*z[rho[3]]/24, \n",
    "                (rho[0], 1, N),\n",
    "                (rho[1], 1, N),\n",
    "                (rho[2], 1, N),\n",
    "                (rho[3], 1, N),\n",
    "                )\n",
    "quartic_action"
   ]
  },
  {
   "cell_type": "markdown",
   "id": "59c384c8",
   "metadata": {},
   "source": [
    "## Partition Function\n",
    "$$\n",
    "Z = \\int \\left[ \\prod_{\\mu} dz_\\mu \\right] e^{-S(z)} \\\\\n",
    "= \\int \\left[ \\prod_{\\mu} dz_\\mu \\right] \\exp \\left( \n",
    "    -\\frac{1}{2} \\sum_{\\mu, \\nu} K^{\\mu \\nu} z_\\mu z_\\nu \n",
    "    - \\frac{\\epsilon}{24} \\sum_{\\rho_1, \\ldots, \\rho_4} \n",
    "    V^{\\rho_1 \\rho_2 \\rho_3 \\rho_4} z_{\\rho_1} z_{\\rho_2} z_{\\rho_3} z_{\\rho_4}\n",
    "\\right) \\\\\n",
    "= \\sqrt{|2 \\pi K|} \\left\\langle \\exp \\left(\n",
    "    - \\frac{\\epsilon}{24} \\sum_{\\rho_1, \\ldots, \\rho_4} \n",
    "    V^{\\rho_1 \\rho_2 \\rho_3 \\rho_4} z_{\\rho_1} z_{\\rho_2} z_{\\rho_3} z_{\\rho_4}\n",
    "\\right) \\right\\rangle_K .\n",
    "$$\n",
    "let's work out $Z$:"
   ]
  },
  {
   "cell_type": "code",
   "execution_count": 5,
   "id": "d46d0d6d",
   "metadata": {},
   "outputs": [
    {
     "data": {
      "text/latex": [
       "$\\displaystyle \\sqrt{|2\\pi K|} \\left(- \\epsilon \\sum_{\\substack{1 \\leq \\rho_{1} \\leq N\\\\1 \\leq \\rho_{2} \\leq N\\\\1 \\leq \\rho_{3} \\leq N\\\\1 \\leq \\rho_{4} \\leq N}} \\frac{\\left\\langle {z}_{\\rho_{1}} {z}_{\\rho_{2}} {z}_{\\rho_{3}} {z}_{\\rho_{4}}\\right\\rangle_{K} {V}_{\\rho_{1},\\rho_{2},\\rho_{3},\\rho_{4}}}{24} + 1\\right)$"
      ],
      "text/plain": [
       "\\sqrt{|2\\pi K|}*(-epsilon*Sum(⟨z[rho1]*z[rho2]*z[rho3]*z[rho4]⟩_K*V[rho1, rho2, rho3, rho4]/24, (rho1, 1, N), (rho2, 1, N), (rho3, 1, N), (rho4, 1, N)) + 1)"
      ]
     },
     "execution_count": 5,
     "metadata": {},
     "output_type": "execute_result"
    }
   ],
   "source": [
    "EK = GaussianExpVal(K)\n",
    "Z = Z0 * EK(sp.series(sp.exp(quartic_action), x=eps, x0=0, n=2).removeO())\n",
    "Z"
   ]
  },
  {
   "cell_type": "code",
   "execution_count": 6,
   "id": "672b623b",
   "metadata": {},
   "outputs": [
    {
     "data": {
      "text/latex": [
       "$\\displaystyle \\sqrt{|2\\pi K|} \\left(- \\epsilon \\sum_{\\substack{1 \\leq \\rho_{1} \\leq N\\\\1 \\leq \\rho_{2} \\leq N\\\\1 \\leq \\rho_{3} \\leq N\\\\1 \\leq \\rho_{4} \\leq N}} \\frac{\\left(\\left\\langle {z}_{\\rho_{1}} {z}_{\\rho_{2}}\\right\\rangle_{K} \\left\\langle {z}_{\\rho_{3}} {z}_{\\rho_{4}}\\right\\rangle_{K} + \\left\\langle {z}_{\\rho_{1}} {z}_{\\rho_{3}}\\right\\rangle_{K} \\left\\langle {z}_{\\rho_{2}} {z}_{\\rho_{4}}\\right\\rangle_{K} + \\left\\langle {z}_{\\rho_{1}} {z}_{\\rho_{4}}\\right\\rangle_{K} \\left\\langle {z}_{\\rho_{2}} {z}_{\\rho_{3}}\\right\\rangle_{K}\\right) {V}_{\\rho_{1},\\rho_{2},\\rho_{3},\\rho_{4}}}{24} + 1\\right)$"
      ],
      "text/plain": [
       "\\sqrt{|2\\pi K|}*(-epsilon*Sum((⟨z[rho1]*z[rho2]⟩_K*⟨z[rho3]*z[rho4]⟩_K + ⟨z[rho1]*z[rho3]⟩_K*⟨z[rho2]*z[rho4]⟩_K + ⟨z[rho1]*z[rho4]⟩_K*⟨z[rho2]*z[rho3]⟩_K)*V[rho1, rho2, rho3, rho4]/24, (rho1, 1, N), (rho2, 1, N), (rho3, 1, N), (rho4, 1, N)) + 1)"
      ]
     },
     "execution_count": 6,
     "metadata": {},
     "output_type": "execute_result"
    }
   ],
   "source": [
    "Z = wick_contraction(Z)\n",
    "Z"
   ]
  },
  {
   "cell_type": "code",
   "execution_count": 7,
   "id": "caa7d0b6",
   "metadata": {},
   "outputs": [
    {
     "data": {
      "text/latex": [
       "$\\displaystyle \\sqrt{|2\\pi K|} \\left(- \\epsilon \\sum_{\\substack{1 \\leq \\rho_{1} \\leq N\\\\1 \\leq \\rho_{2} \\leq N\\\\1 \\leq \\rho_{3} \\leq N\\\\1 \\leq \\rho_{4} \\leq N}} \\frac{\\left({K}_{\\rho_{1},\\rho_{2}} {K}_{\\rho_{3},\\rho_{4}} + {K}_{\\rho_{1},\\rho_{3}} {K}_{\\rho_{2},\\rho_{4}} + {K}_{\\rho_{1},\\rho_{4}} {K}_{\\rho_{2},\\rho_{3}}\\right) {V}_{\\rho_{1},\\rho_{2},\\rho_{3},\\rho_{4}}}{24} + 1\\right)$"
      ],
      "text/plain": [
       "\\sqrt{|2\\pi K|}*(-epsilon*Sum((K[rho1, rho2]*K[rho3, rho4] + K[rho1, rho3]*K[rho2, rho4] + K[rho1, rho4]*K[rho2, rho3])*V[rho1, rho2, rho3, rho4]/24, (rho1, 1, N), (rho2, 1, N), (rho3, 1, N), (rho4, 1, N)) + 1)"
      ]
     },
     "execution_count": 7,
     "metadata": {},
     "output_type": "execute_result"
    }
   ],
   "source": [
    "A, B = wilds('A, B')\n",
    "gaussian_rule = {EK(z[A] * z[B]):K[A, B]}\n",
    "Z = wild_subs(Z, gaussian_rule)\n",
    "Z"
   ]
  },
  {
   "cell_type": "markdown",
   "id": "4d880b55",
   "metadata": {},
   "source": [
    "assume full symmetry of $K$ and $V$, so we can sort the index:"
   ]
  },
  {
   "cell_type": "code",
   "execution_count": 8,
   "id": "344597ed",
   "metadata": {},
   "outputs": [
    {
     "data": {
      "text/latex": [
       "$\\displaystyle \\sqrt{|2\\pi K|} + \\sum_{\\substack{1 \\leq \\rho_{1} \\leq N\\\\1 \\leq \\rho_{2} \\leq N\\\\1 \\leq \\rho_{3} \\leq N\\\\1 \\leq \\rho_{4} \\leq N}} - \\frac{\\sqrt{|2\\pi K|} \\epsilon {K}_{\\rho_{1},\\rho_{2}} {K}_{\\rho_{3},\\rho_{4}} {V}_{\\rho_{1},\\rho_{2},\\rho_{3},\\rho_{4}}}{24} + \\sum_{\\substack{1 \\leq \\rho_{1} \\leq N\\\\1 \\leq \\rho_{2} \\leq N\\\\1 \\leq \\rho_{3} \\leq N\\\\1 \\leq \\rho_{4} \\leq N}} - \\frac{\\sqrt{|2\\pi K|} \\epsilon {K}_{\\rho_{1},\\rho_{3}} {K}_{\\rho_{2},\\rho_{4}} {V}_{\\rho_{1},\\rho_{2},\\rho_{3},\\rho_{4}}}{24} + \\sum_{\\substack{1 \\leq \\rho_{1} \\leq N\\\\1 \\leq \\rho_{2} \\leq N\\\\1 \\leq \\rho_{3} \\leq N\\\\1 \\leq \\rho_{4} \\leq N}} - \\frac{\\sqrt{|2\\pi K|} \\epsilon {K}_{\\rho_{1},\\rho_{4}} {K}_{\\rho_{2},\\rho_{3}} {V}_{\\rho_{1},\\rho_{2},\\rho_{3},\\rho_{4}}}{24}$"
      ],
      "text/plain": [
       "\\sqrt{|2\\pi K|} + Sum(-\\sqrt{|2\\pi K|}*epsilon*K[rho1, rho2]*K[rho3, rho4]*V[rho1, rho2, rho3, rho4]/24, (rho1, 1, N), (rho2, 1, N), (rho3, 1, N), (rho4, 1, N)) + Sum(-\\sqrt{|2\\pi K|}*epsilon*K[rho1, rho3]*K[rho2, rho4]*V[rho1, rho2, rho3, rho4]/24, (rho1, 1, N), (rho2, 1, N), (rho3, 1, N), (rho4, 1, N)) + Sum(-\\sqrt{|2\\pi K|}*epsilon*K[rho1, rho4]*K[rho2, rho3]*V[rho1, rho2, rho3, rho4]/24, (rho1, 1, N), (rho2, 1, N), (rho3, 1, N), (rho4, 1, N))"
      ]
     },
     "execution_count": 8,
     "metadata": {},
     "output_type": "execute_result"
    }
   ],
   "source": [
    "Z = pull_sums_out_front(sp.expand(Z))\n",
    "Z"
   ]
  },
  {
   "cell_type": "code",
   "execution_count": 9,
   "id": "03d8f1de",
   "metadata": {},
   "outputs": [],
   "source": [
    "def sort_indices(expr: sp.Basic, fully_symmetric: set[sp.IndexedBase]) -> sp.Basic:\n",
    "    \n",
    "    def sort_indexed(i: sp.Indexed):\n",
    "        base, indices = i.base, i.indices\n",
    "        if base in fully_symmetric:\n",
    "            sorted_indices = tuple(sorted(indices, key=sp.default_sort_key))\n",
    "            return base[sorted_indices]\n",
    "        return i\n",
    "\n",
    "    return expr.replace(lambda x: isinstance(x, sp.Indexed), sort_indexed)"
   ]
  },
  {
   "cell_type": "code",
   "execution_count": 10,
   "id": "dde049b6",
   "metadata": {},
   "outputs": [
    {
     "data": {
      "text/latex": [
       "$\\displaystyle \\sqrt{|2\\pi K|} + \\sum_{\\substack{1 \\leq \\rho_{1} \\leq N\\\\1 \\leq \\rho_{2} \\leq N\\\\1 \\leq \\rho_{3} \\leq N\\\\1 \\leq \\rho_{4} \\leq N}} - \\frac{\\sqrt{|2\\pi K|} \\epsilon {K}_{\\rho_{1},\\rho_{2}} {K}_{\\rho_{3},\\rho_{4}} {V}_{\\rho_{1},\\rho_{2},\\rho_{3},\\rho_{4}}}{24} + \\sum_{\\substack{1 \\leq \\rho_{1} \\leq N\\\\1 \\leq \\rho_{2} \\leq N\\\\1 \\leq \\rho_{3} \\leq N\\\\1 \\leq \\rho_{4} \\leq N}} - \\frac{\\sqrt{|2\\pi K|} \\epsilon {K}_{\\rho_{1},\\rho_{3}} {K}_{\\rho_{2},\\rho_{4}} {V}_{\\rho_{1},\\rho_{2},\\rho_{3},\\rho_{4}}}{24} + \\sum_{\\substack{1 \\leq \\rho_{1} \\leq N\\\\1 \\leq \\rho_{2} \\leq N\\\\1 \\leq \\rho_{3} \\leq N\\\\1 \\leq \\rho_{4} \\leq N}} - \\frac{\\sqrt{|2\\pi K|} \\epsilon {K}_{\\rho_{1},\\rho_{4}} {K}_{\\rho_{2},\\rho_{3}} {V}_{\\rho_{1},\\rho_{2},\\rho_{3},\\rho_{4}}}{24}$"
      ],
      "text/plain": [
       "\\sqrt{|2\\pi K|} + Sum(-\\sqrt{|2\\pi K|}*epsilon*K[rho1, rho2]*K[rho3, rho4]*V[rho1, rho2, rho3, rho4]/24, (rho1, 1, N), (rho2, 1, N), (rho3, 1, N), (rho4, 1, N)) + Sum(-\\sqrt{|2\\pi K|}*epsilon*K[rho1, rho3]*K[rho2, rho4]*V[rho1, rho2, rho3, rho4]/24, (rho1, 1, N), (rho2, 1, N), (rho3, 1, N), (rho4, 1, N)) + Sum(-\\sqrt{|2\\pi K|}*epsilon*K[rho1, rho4]*K[rho2, rho3]*V[rho1, rho2, rho3, rho4]/24, (rho1, 1, N), (rho2, 1, N), (rho3, 1, N), (rho4, 1, N))"
      ]
     },
     "execution_count": 10,
     "metadata": {},
     "output_type": "execute_result"
    }
   ],
   "source": [
    "sort_indices(Z, {K, V})"
   ]
  },
  {
   "cell_type": "markdown",
   "id": "34d97feb",
   "metadata": {},
   "source": [
    "# Two point correlator"
   ]
  },
  {
   "cell_type": "markdown",
   "id": "fa4f3e88",
   "metadata": {},
   "source": [
    "$$\n",
    "\\mathbb{E}[z_{\\mu_1} z_{\\mu_2}] \n",
    "= \\frac{1}{Z} \\int \\left[ \\prod_{\\mu} dz_\\mu \\right] \n",
    "e^{-S(z)} z_{\\mu_1} z_{\\mu_2} \\\\\n",
    "= \\frac{\\sqrt{2\\pi K}}{Z} \\left\\langle \n",
    "z_{\\mu_1} z_{\\mu_2} \n",
    "\\exp\\left( \n",
    "    -\\frac{\\epsilon}{24} \n",
    "    \\sum_{\\rho_1, \\ldots, \\rho_4} \n",
    "    V^{\\rho_1 \\rho_2 \\rho_3 \\rho_4} \n",
    "    z_{\\rho_1} z_{\\rho_2} z_{\\rho_3} z_{\\rho_4}\n",
    "\\right) \n",
    "\\right\\rangle_K\n",
    "$$\n"
   ]
  },
  {
   "cell_type": "code",
   "execution_count": 11,
   "id": "b8dc032a",
   "metadata": {},
   "outputs": [
    {
     "data": {
      "text/latex": [
       "$\\displaystyle \\frac{\\epsilon \\sum_{\\substack{1 \\leq \\rho_{1} \\leq N\\\\1 \\leq \\rho_{2} \\leq N\\\\1 \\leq \\rho_{3} \\leq N\\\\1 \\leq \\rho_{4} \\leq N}} \\left\\langle {z}_{\\mu_{1}} {z}_{\\mu_{2}} {z}_{\\rho_{1}} {z}_{\\rho_{2}} {z}_{\\rho_{3}} {z}_{\\rho_{4}}\\right\\rangle_{K} {V}_{\\rho_{1},\\rho_{2},\\rho_{3},\\rho_{4}} - 24 \\left\\langle {z}_{\\mu_{1}} {z}_{\\mu_{2}}\\right\\rangle_{K}}{\\epsilon \\sum_{\\substack{1 \\leq \\rho_{1} \\leq N\\\\1 \\leq \\rho_{2} \\leq N\\\\1 \\leq \\rho_{3} \\leq N\\\\1 \\leq \\rho_{4} \\leq N}} {K}_{\\rho_{1},\\rho_{2}} {K}_{\\rho_{3},\\rho_{4}} {V}_{\\rho_{1},\\rho_{2},\\rho_{3},\\rho_{4}} + \\epsilon \\sum_{\\substack{1 \\leq \\rho_{1} \\leq N\\\\1 \\leq \\rho_{2} \\leq N\\\\1 \\leq \\rho_{3} \\leq N\\\\1 \\leq \\rho_{4} \\leq N}} {K}_{\\rho_{1},\\rho_{3}} {K}_{\\rho_{2},\\rho_{4}} {V}_{\\rho_{1},\\rho_{2},\\rho_{3},\\rho_{4}} + \\epsilon \\sum_{\\substack{1 \\leq \\rho_{1} \\leq N\\\\1 \\leq \\rho_{2} \\leq N\\\\1 \\leq \\rho_{3} \\leq N\\\\1 \\leq \\rho_{4} \\leq N}} {K}_{\\rho_{1},\\rho_{4}} {K}_{\\rho_{2},\\rho_{3}} {V}_{\\rho_{1},\\rho_{2},\\rho_{3},\\rho_{4}} - 24}$"
      ],
      "text/plain": [
       "(epsilon*Sum(⟨z[mu1]*z[mu2]*z[rho1]*z[rho2]*z[rho3]*z[rho4]⟩_K*V[rho1, rho2, rho3, rho4], (rho1, 1, N), (rho2, 1, N), (rho3, 1, N), (rho4, 1, N)) - 24*⟨z[mu1]*z[mu2]⟩_K)/(epsilon*Sum(K[rho1, rho2]*K[rho3, rho4]*V[rho1, rho2, rho3, rho4], (rho1, 1, N), (rho2, 1, N), (rho3, 1, N), (rho4, 1, N)) + epsilon*Sum(K[rho1, rho3]*K[rho2, rho4]*V[rho1, rho2, rho3, rho4], (rho1, 1, N), (rho2, 1, N), (rho3, 1, N), (rho4, 1, N)) + epsilon*Sum(K[rho1, rho4]*K[rho2, rho3]*V[rho1, rho2, rho3, rho4], (rho1, 1, N), (rho2, 1, N), (rho3, 1, N), (rho4, 1, N)) - 24)"
      ]
     },
     "execution_count": 11,
     "metadata": {},
     "output_type": "execute_result"
    }
   ],
   "source": [
    "inner = z[mu[0]]*z[mu[1]]*sp.exp(quartic_action)\n",
    "limit = sp.series(inner, x=eps, x0=0, n=2).removeO()\n",
    "limit = pull_sums_out_front(limit)\n",
    "Ezz = Z0/Z * EK(limit)\n",
    "Ezz = sp.simplify(Ezz)\n",
    "Ezz"
   ]
  },
  {
   "cell_type": "code",
   "execution_count": 12,
   "id": "da4173e6",
   "metadata": {},
   "outputs": [
    {
     "data": {
      "text/latex": [
       "$\\displaystyle \\epsilon \\left(- 24 \\left(- \\frac{\\sum_{\\substack{1 \\leq \\rho_{1} \\leq N\\\\1 \\leq \\rho_{2} \\leq N\\\\1 \\leq \\rho_{3} \\leq N\\\\1 \\leq \\rho_{4} \\leq N}} {K}_{\\rho_{1},\\rho_{2}} {K}_{\\rho_{3},\\rho_{4}} {V}_{\\rho_{1},\\rho_{2},\\rho_{3},\\rho_{4}}}{576} - \\frac{\\sum_{\\substack{1 \\leq \\rho_{1} \\leq N\\\\1 \\leq \\rho_{2} \\leq N\\\\1 \\leq \\rho_{3} \\leq N\\\\1 \\leq \\rho_{4} \\leq N}} {K}_{\\rho_{1},\\rho_{3}} {K}_{\\rho_{2},\\rho_{4}} {V}_{\\rho_{1},\\rho_{2},\\rho_{3},\\rho_{4}}}{576} - \\frac{\\sum_{\\substack{1 \\leq \\rho_{1} \\leq N\\\\1 \\leq \\rho_{2} \\leq N\\\\1 \\leq \\rho_{3} \\leq N\\\\1 \\leq \\rho_{4} \\leq N}} {K}_{\\rho_{1},\\rho_{4}} {K}_{\\rho_{2},\\rho_{3}} {V}_{\\rho_{1},\\rho_{2},\\rho_{3},\\rho_{4}}}{576}\\right) {K}_{\\mu_{1},\\mu_{2}} - \\frac{\\sum_{\\substack{1 \\leq \\rho_{1} \\leq N\\\\1 \\leq \\rho_{2} \\leq N\\\\1 \\leq \\rho_{3} \\leq N\\\\1 \\leq \\rho_{4} \\leq N}} \\left({K}_{\\mu_{1},\\mu_{2}} {K}_{\\rho_{1},\\rho_{2}} {K}_{\\rho_{3},\\rho_{4}} + {K}_{\\mu_{1},\\mu_{2}} {K}_{\\rho_{1},\\rho_{3}} {K}_{\\rho_{2},\\rho_{4}} + {K}_{\\mu_{1},\\mu_{2}} {K}_{\\rho_{1},\\rho_{4}} {K}_{\\rho_{2},\\rho_{3}} + {K}_{\\mu_{1},\\rho_{1}} {K}_{\\mu_{2},\\rho_{2}} {K}_{\\rho_{3},\\rho_{4}} + {K}_{\\mu_{1},\\rho_{1}} {K}_{\\mu_{2},\\rho_{3}} {K}_{\\rho_{2},\\rho_{4}} + {K}_{\\mu_{1},\\rho_{1}} {K}_{\\mu_{2},\\rho_{4}} {K}_{\\rho_{2},\\rho_{3}} + {K}_{\\mu_{1},\\rho_{2}} {K}_{\\mu_{2},\\rho_{1}} {K}_{\\rho_{3},\\rho_{4}} + {K}_{\\mu_{1},\\rho_{2}} {K}_{\\mu_{2},\\rho_{3}} {K}_{\\rho_{1},\\rho_{4}} + {K}_{\\mu_{1},\\rho_{2}} {K}_{\\mu_{2},\\rho_{4}} {K}_{\\rho_{1},\\rho_{3}} + {K}_{\\mu_{1},\\rho_{3}} {K}_{\\mu_{2},\\rho_{1}} {K}_{\\rho_{2},\\rho_{4}} + {K}_{\\mu_{1},\\rho_{3}} {K}_{\\mu_{2},\\rho_{2}} {K}_{\\rho_{1},\\rho_{4}} + {K}_{\\mu_{1},\\rho_{3}} {K}_{\\mu_{2},\\rho_{4}} {K}_{\\rho_{1},\\rho_{2}} + {K}_{\\mu_{1},\\rho_{4}} {K}_{\\mu_{2},\\rho_{1}} {K}_{\\rho_{2},\\rho_{3}} + {K}_{\\mu_{1},\\rho_{4}} {K}_{\\mu_{2},\\rho_{2}} {K}_{\\rho_{1},\\rho_{3}} + {K}_{\\mu_{1},\\rho_{4}} {K}_{\\mu_{2},\\rho_{3}} {K}_{\\rho_{1},\\rho_{2}}\\right) {V}_{\\rho_{1},\\rho_{2},\\rho_{3},\\rho_{4}}}{24}\\right) + {K}_{\\mu_{1},\\mu_{2}}$"
      ],
      "text/plain": [
       "epsilon*(-24*(-Sum(K[rho1, rho2]*K[rho3, rho4]*V[rho1, rho2, rho3, rho4], (rho1, 1, N), (rho2, 1, N), (rho3, 1, N), (rho4, 1, N))/576 - Sum(K[rho1, rho3]*K[rho2, rho4]*V[rho1, rho2, rho3, rho4], (rho1, 1, N), (rho2, 1, N), (rho3, 1, N), (rho4, 1, N))/576 - Sum(K[rho1, rho4]*K[rho2, rho3]*V[rho1, rho2, rho3, rho4], (rho1, 1, N), (rho2, 1, N), (rho3, 1, N), (rho4, 1, N))/576)*K[mu1, mu2] - Sum((K[mu1, mu2]*K[rho1, rho2]*K[rho3, rho4] + K[mu1, mu2]*K[rho1, rho3]*K[rho2, rho4] + K[mu1, mu2]*K[rho1, rho4]*K[rho2, rho3] + K[mu1, rho1]*K[mu2, rho2]*K[rho3, rho4] + K[mu1, rho1]*K[mu2, rho3]*K[rho2, rho4] + K[mu1, rho1]*K[mu2, rho4]*K[rho2, rho3] + K[mu1, rho2]*K[mu2, rho1]*K[rho3, rho4] + K[mu1, rho2]*K[mu2, rho3]*K[rho1, rho4] + K[mu1, rho2]*K[mu2, rho4]*K[rho1, rho3] + K[mu1, rho3]*K[mu2, rho1]*K[rho2, rho4] + K[mu1, rho3]*K[mu2, rho2]*K[rho1, rho4] + K[mu1, rho3]*K[mu2, rho4]*K[rho1, rho2] + K[mu1, rho4]*K[mu2, rho1]*K[rho2, rho3] + K[mu1, rho4]*K[mu2, rho2]*K[rho1, rho3] + K[mu1, rho4]*K[mu2, rho3]*K[rho1, rho2])*V[rho1, rho2, rho3, rho4], (rho1, 1, N), (rho2, 1, N), (rho3, 1, N), (rho4, 1, N))/24) + K[mu1, mu2]"
      ]
     },
     "execution_count": 12,
     "metadata": {},
     "output_type": "execute_result"
    }
   ],
   "source": [
    "Ezz = sp.series(Ezz, x=eps, x0=0, n=2).removeO()\n",
    "Ezz = wick_contraction(Ezz)\n",
    "Ezz = wild_subs(Ezz, gaussian_rule)\n",
    "Ezz"
   ]
  },
  {
   "cell_type": "code",
   "execution_count": 13,
   "id": "dfd83fc4",
   "metadata": {},
   "outputs": [
    {
     "data": {
      "text/latex": [
       "$\\displaystyle {K}_{\\mu_{1},\\mu_{2}} + \\sum_{\\substack{1 \\leq \\rho_{1} \\leq N\\\\1 \\leq \\rho_{2} \\leq N\\\\1 \\leq \\rho_{3} \\leq N\\\\1 \\leq \\rho_{4} \\leq N}} - \\frac{\\epsilon {K}_{\\mu_{1},\\rho_{1}} {K}_{\\mu_{2},\\rho_{2}} {K}_{\\rho_{3},\\rho_{4}} {V}_{\\rho_{1},\\rho_{2},\\rho_{3},\\rho_{4}}}{24} + \\sum_{\\substack{1 \\leq \\rho_{1} \\leq N\\\\1 \\leq \\rho_{2} \\leq N\\\\1 \\leq \\rho_{3} \\leq N\\\\1 \\leq \\rho_{4} \\leq N}} - \\frac{\\epsilon {K}_{\\mu_{1},\\rho_{1}} {K}_{\\mu_{2},\\rho_{3}} {K}_{\\rho_{2},\\rho_{4}} {V}_{\\rho_{1},\\rho_{2},\\rho_{3},\\rho_{4}}}{24} + \\sum_{\\substack{1 \\leq \\rho_{1} \\leq N\\\\1 \\leq \\rho_{2} \\leq N\\\\1 \\leq \\rho_{3} \\leq N\\\\1 \\leq \\rho_{4} \\leq N}} - \\frac{\\epsilon {K}_{\\mu_{1},\\rho_{1}} {K}_{\\mu_{2},\\rho_{4}} {K}_{\\rho_{2},\\rho_{3}} {V}_{\\rho_{1},\\rho_{2},\\rho_{3},\\rho_{4}}}{24} + \\sum_{\\substack{1 \\leq \\rho_{1} \\leq N\\\\1 \\leq \\rho_{2} \\leq N\\\\1 \\leq \\rho_{3} \\leq N\\\\1 \\leq \\rho_{4} \\leq N}} - \\frac{\\epsilon {K}_{\\mu_{1},\\rho_{2}} {K}_{\\mu_{2},\\rho_{1}} {K}_{\\rho_{3},\\rho_{4}} {V}_{\\rho_{1},\\rho_{2},\\rho_{3},\\rho_{4}}}{24} + \\sum_{\\substack{1 \\leq \\rho_{1} \\leq N\\\\1 \\leq \\rho_{2} \\leq N\\\\1 \\leq \\rho_{3} \\leq N\\\\1 \\leq \\rho_{4} \\leq N}} - \\frac{\\epsilon {K}_{\\mu_{1},\\rho_{2}} {K}_{\\mu_{2},\\rho_{3}} {K}_{\\rho_{1},\\rho_{4}} {V}_{\\rho_{1},\\rho_{2},\\rho_{3},\\rho_{4}}}{24} + \\sum_{\\substack{1 \\leq \\rho_{1} \\leq N\\\\1 \\leq \\rho_{2} \\leq N\\\\1 \\leq \\rho_{3} \\leq N\\\\1 \\leq \\rho_{4} \\leq N}} - \\frac{\\epsilon {K}_{\\mu_{1},\\rho_{2}} {K}_{\\mu_{2},\\rho_{4}} {K}_{\\rho_{1},\\rho_{3}} {V}_{\\rho_{1},\\rho_{2},\\rho_{3},\\rho_{4}}}{24} + \\sum_{\\substack{1 \\leq \\rho_{1} \\leq N\\\\1 \\leq \\rho_{2} \\leq N\\\\1 \\leq \\rho_{3} \\leq N\\\\1 \\leq \\rho_{4} \\leq N}} - \\frac{\\epsilon {K}_{\\mu_{1},\\rho_{3}} {K}_{\\mu_{2},\\rho_{1}} {K}_{\\rho_{2},\\rho_{4}} {V}_{\\rho_{1},\\rho_{2},\\rho_{3},\\rho_{4}}}{24} + \\sum_{\\substack{1 \\leq \\rho_{1} \\leq N\\\\1 \\leq \\rho_{2} \\leq N\\\\1 \\leq \\rho_{3} \\leq N\\\\1 \\leq \\rho_{4} \\leq N}} - \\frac{\\epsilon {K}_{\\mu_{1},\\rho_{3}} {K}_{\\mu_{2},\\rho_{2}} {K}_{\\rho_{1},\\rho_{4}} {V}_{\\rho_{1},\\rho_{2},\\rho_{3},\\rho_{4}}}{24} + \\sum_{\\substack{1 \\leq \\rho_{1} \\leq N\\\\1 \\leq \\rho_{2} \\leq N\\\\1 \\leq \\rho_{3} \\leq N\\\\1 \\leq \\rho_{4} \\leq N}} - \\frac{\\epsilon {K}_{\\mu_{1},\\rho_{3}} {K}_{\\mu_{2},\\rho_{4}} {K}_{\\rho_{1},\\rho_{2}} {V}_{\\rho_{1},\\rho_{2},\\rho_{3},\\rho_{4}}}{24} + \\sum_{\\substack{1 \\leq \\rho_{1} \\leq N\\\\1 \\leq \\rho_{2} \\leq N\\\\1 \\leq \\rho_{3} \\leq N\\\\1 \\leq \\rho_{4} \\leq N}} - \\frac{\\epsilon {K}_{\\mu_{1},\\rho_{4}} {K}_{\\mu_{2},\\rho_{1}} {K}_{\\rho_{2},\\rho_{3}} {V}_{\\rho_{1},\\rho_{2},\\rho_{3},\\rho_{4}}}{24} + \\sum_{\\substack{1 \\leq \\rho_{1} \\leq N\\\\1 \\leq \\rho_{2} \\leq N\\\\1 \\leq \\rho_{3} \\leq N\\\\1 \\leq \\rho_{4} \\leq N}} - \\frac{\\epsilon {K}_{\\mu_{1},\\rho_{4}} {K}_{\\mu_{2},\\rho_{2}} {K}_{\\rho_{1},\\rho_{3}} {V}_{\\rho_{1},\\rho_{2},\\rho_{3},\\rho_{4}}}{24} + \\sum_{\\substack{1 \\leq \\rho_{1} \\leq N\\\\1 \\leq \\rho_{2} \\leq N\\\\1 \\leq \\rho_{3} \\leq N\\\\1 \\leq \\rho_{4} \\leq N}} - \\frac{\\epsilon {K}_{\\mu_{1},\\rho_{4}} {K}_{\\mu_{2},\\rho_{3}} {K}_{\\rho_{1},\\rho_{2}} {V}_{\\rho_{1},\\rho_{2},\\rho_{3},\\rho_{4}}}{24}$"
      ],
      "text/plain": [
       "K[mu1, mu2] + Sum(-epsilon*K[mu1, rho1]*K[mu2, rho2]*K[rho3, rho4]*V[rho1, rho2, rho3, rho4]/24, (rho1, 1, N), (rho2, 1, N), (rho3, 1, N), (rho4, 1, N)) + Sum(-epsilon*K[mu1, rho1]*K[mu2, rho3]*K[rho2, rho4]*V[rho1, rho2, rho3, rho4]/24, (rho1, 1, N), (rho2, 1, N), (rho3, 1, N), (rho4, 1, N)) + Sum(-epsilon*K[mu1, rho1]*K[mu2, rho4]*K[rho2, rho3]*V[rho1, rho2, rho3, rho4]/24, (rho1, 1, N), (rho2, 1, N), (rho3, 1, N), (rho4, 1, N)) + Sum(-epsilon*K[mu1, rho2]*K[mu2, rho1]*K[rho3, rho4]*V[rho1, rho2, rho3, rho4]/24, (rho1, 1, N), (rho2, 1, N), (rho3, 1, N), (rho4, 1, N)) + Sum(-epsilon*K[mu1, rho2]*K[mu2, rho3]*K[rho1, rho4]*V[rho1, rho2, rho3, rho4]/24, (rho1, 1, N), (rho2, 1, N), (rho3, 1, N), (rho4, 1, N)) + Sum(-epsilon*K[mu1, rho2]*K[mu2, rho4]*K[rho1, rho3]*V[rho1, rho2, rho3, rho4]/24, (rho1, 1, N), (rho2, 1, N), (rho3, 1, N), (rho4, 1, N)) + Sum(-epsilon*K[mu1, rho3]*K[mu2, rho1]*K[rho2, rho4]*V[rho1, rho2, rho3, rho4]/24, (rho1, 1, N), (rho2, 1, N), (rho3, 1, N), (rho4, 1, N)) + Sum(-epsilon*K[mu1, rho3]*K[mu2, rho2]*K[rho1, rho4]*V[rho1, rho2, rho3, rho4]/24, (rho1, 1, N), (rho2, 1, N), (rho3, 1, N), (rho4, 1, N)) + Sum(-epsilon*K[mu1, rho3]*K[mu2, rho4]*K[rho1, rho2]*V[rho1, rho2, rho3, rho4]/24, (rho1, 1, N), (rho2, 1, N), (rho3, 1, N), (rho4, 1, N)) + Sum(-epsilon*K[mu1, rho4]*K[mu2, rho1]*K[rho2, rho3]*V[rho1, rho2, rho3, rho4]/24, (rho1, 1, N), (rho2, 1, N), (rho3, 1, N), (rho4, 1, N)) + Sum(-epsilon*K[mu1, rho4]*K[mu2, rho2]*K[rho1, rho3]*V[rho1, rho2, rho3, rho4]/24, (rho1, 1, N), (rho2, 1, N), (rho3, 1, N), (rho4, 1, N)) + Sum(-epsilon*K[mu1, rho4]*K[mu2, rho3]*K[rho1, rho2]*V[rho1, rho2, rho3, rho4]/24, (rho1, 1, N), (rho2, 1, N), (rho3, 1, N), (rho4, 1, N))"
      ]
     },
     "execution_count": 13,
     "metadata": {},
     "output_type": "execute_result"
    }
   ],
   "source": [
    "Ezz = pull_sums_out_front(sp.expand(sp.simplify(Ezz)))\n",
    "Ezz"
   ]
  }
 ],
 "metadata": {
  "kernelspec": {
   "display_name": "qml",
   "language": "python",
   "name": "python3"
  },
  "language_info": {
   "codemirror_mode": {
    "name": "ipython",
    "version": 3
   },
   "file_extension": ".py",
   "mimetype": "text/x-python",
   "name": "python",
   "nbconvert_exporter": "python",
   "pygments_lexer": "ipython3",
   "version": "3.12.10"
  }
 },
 "nbformat": 4,
 "nbformat_minor": 5
}
