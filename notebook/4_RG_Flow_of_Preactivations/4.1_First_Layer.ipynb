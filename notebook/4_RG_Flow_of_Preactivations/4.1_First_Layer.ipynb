{
 "cells": [
  {
   "cell_type": "code",
   "execution_count": 1,
   "id": "29db0517",
   "metadata": {},
   "outputs": [],
   "source": [
    "import sympy as sp\n",
    "\n",
    "from symlib.utils import pull_sums_out_front, sum_kronecker_contract, wilds, wild_subs\n",
    "from symlib.random import ExpVal, GaussianIndexedBase, wick_contraction\n",
    "from symlib.MLP import ZLayer"
   ]
  },
  {
   "cell_type": "code",
   "execution_count": 2,
   "id": "15d5a92a",
   "metadata": {},
   "outputs": [],
   "source": [
    "# Indices\n",
    "i1, i2, i3, i4 = sp.symbols('i1 i2 i3 i4', integer=True)\n",
    "alpha1, alpha2, alpha3, alpha4 = sp.symbols('alpha1, alpha2, alpha3, alpha4', integer=True)\n",
    "\n",
    "# Input\n",
    "x = sp.IndexedBase('x')\n",
    "n_0 = sp.symbols('n_0', integer=True)\n",
    "\n",
    "# First layer param\n",
    "b = GaussianIndexedBase('b^(1)')\n",
    "W = GaussianIndexedBase('W^(1)')\n",
    "C_b, C_w = sp.symbols('C_b^(1) C_W^(1)', positive=True)"
   ]
  },
  {
   "cell_type": "markdown",
   "id": "cd568da1",
   "metadata": {},
   "source": [
    "## Two point correlator"
   ]
  },
  {
   "cell_type": "code",
   "execution_count": 3,
   "id": "77cd36fc",
   "metadata": {},
   "outputs": [
    {
     "data": {
      "text/latex": [
       "$\\displaystyle \\left({b^{(1)}}_{i_{1}} + \\sum_{k_{1}=1}^{n_{0}} {W^{(1)}}_{i_{1},k_{1}} {x}_{k_{1},\\alpha_{1}}\\right) \\left({b^{(1)}}_{i_{2}} + \\sum_{k_{2}=1}^{n_{0}} {W^{(1)}}_{i_{2},k_{2}} {x}_{k_{2},\\alpha_{2}}\\right)$"
      ],
      "text/plain": [
       "(b^(1)[i1] + Sum(W^(1)[i1, k_1]*x[k_1, alpha1], (k_1, 1, n_0)))*(b^(1)[i2] + Sum(W^(1)[i2, k_2]*x[k_2, alpha2], (k_2, 1, n_0)))"
      ]
     },
     "execution_count": 3,
     "metadata": {},
     "output_type": "execute_result"
    }
   ],
   "source": [
    "z1 = ZLayer(W, b, x, n_0)\n",
    "\n",
    "z1[i1, alpha1] * z1[i2, alpha2]"
   ]
  },
  {
   "cell_type": "code",
   "execution_count": 4,
   "id": "b09be774",
   "metadata": {},
   "outputs": [
    {
     "data": {
      "text/latex": [
       "$\\displaystyle {b^{(1)}}_{i_{1}} {b^{(1)}}_{i_{2}} + \\sum_{k_{3}=1}^{n_{0}} {W^{(1)}}_{i_{1},k_{3}} {b^{(1)}}_{i_{2}} {x}_{k_{3},\\alpha_{1}} + \\sum_{k_{4}=1}^{n_{0}} {W^{(1)}}_{i_{2},k_{4}} {b^{(1)}}_{i_{1}} {x}_{k_{4},\\alpha_{2}} + \\sum_{\\substack{1 \\leq k_{3} \\leq n_{0}\\\\1 \\leq k_{4} \\leq n_{0}}} {W^{(1)}}_{i_{1},k_{3}} {W^{(1)}}_{i_{2},k_{4}} {x}_{k_{3},\\alpha_{1}} {x}_{k_{4},\\alpha_{2}}$"
      ],
      "text/plain": [
       "b^(1)[i1]*b^(1)[i2] + Sum(W^(1)[i1, k_3]*b^(1)[i2]*x[k_3, alpha1], (k_3, 1, n_0)) + Sum(W^(1)[i2, k_4]*b^(1)[i1]*x[k_4, alpha2], (k_4, 1, n_0)) + Sum(W^(1)[i1, k_3]*W^(1)[i2, k_4]*x[k_3, alpha1]*x[k_4, alpha2], (k_3, 1, n_0), (k_4, 1, n_0))"
      ]
     },
     "execution_count": 4,
     "metadata": {},
     "output_type": "execute_result"
    }
   ],
   "source": [
    "zz: sp.Basic = sp.expand(z1[i1, alpha1] * z1[i2, alpha2])\n",
    "zz = pull_sums_out_front(zz)\n",
    "zz"
   ]
  },
  {
   "cell_type": "code",
   "execution_count": 5,
   "id": "3f2c5425",
   "metadata": {},
   "outputs": [
    {
     "data": {
      "text/latex": [
       "$\\displaystyle \\mathbb{E}\\left[{b^{(1)}}_{i_{1}} {b^{(1)}}_{i_{2}}\\right] + \\sum_{k_{3}=1}^{n_{0}} \\mathbb{E}\\left[{W^{(1)}}_{i_{1},k_{3}} {b^{(1)}}_{i_{2}}\\right] {x}_{k_{3},\\alpha_{1}} + \\sum_{k_{4}=1}^{n_{0}} \\mathbb{E}\\left[{W^{(1)}}_{i_{2},k_{4}} {b^{(1)}}_{i_{1}}\\right] {x}_{k_{4},\\alpha_{2}} + \\sum_{\\substack{1 \\leq k_{3} \\leq n_{0}\\\\1 \\leq k_{4} \\leq n_{0}}} \\mathbb{E}\\left[{W^{(1)}}_{i_{1},k_{3}} {W^{(1)}}_{i_{2},k_{4}}\\right] {x}_{k_{3},\\alpha_{1}} {x}_{k_{4},\\alpha_{2}}$"
      ],
      "text/plain": [
       "𝔼[b^(1)[i1]*b^(1)[i2]] + Sum(𝔼[W^(1)[i1, k_3]*b^(1)[i2]]*x[k_3, alpha1], (k_3, 1, n_0)) + Sum(𝔼[W^(1)[i2, k_4]*b^(1)[i1]]*x[k_4, alpha2], (k_4, 1, n_0)) + Sum(𝔼[W^(1)[i1, k_3]*W^(1)[i2, k_4]]*x[k_3, alpha1]*x[k_4, alpha2], (k_3, 1, n_0), (k_4, 1, n_0))"
      ]
     },
     "execution_count": 5,
     "metadata": {},
     "output_type": "execute_result"
    }
   ],
   "source": [
    "Ezz: sp.Basic = ExpVal(zz)\n",
    "Ezz"
   ]
  },
  {
   "cell_type": "code",
   "execution_count": 6,
   "id": "6b70a848",
   "metadata": {},
   "outputs": [
    {
     "data": {
      "text/latex": [
       "$\\displaystyle C^{(1)}_{b} \\delta_{i_{1} i_{2}} + \\sum_{k_{3}=1}^{n_{0}} 0 + \\sum_{k_{4}=1}^{n_{0}} 0 + \\sum_{\\substack{1 \\leq k_{3} \\leq n_{0}\\\\1 \\leq k_{4} \\leq n_{0}}} \\frac{C^{(1)}_{W} \\delta_{i_{1} i_{2}} \\delta_{k_{3} k_{4}} {x}_{k_{3},\\alpha_{1}} {x}_{k_{4},\\alpha_{2}}}{n_{0}}$"
      ],
      "text/plain": [
       "C_b^(1)*KroneckerDelta(i1, i2) + Sum(0, (k_3, 1, n_0)) + Sum(0, (k_4, 1, n_0)) + Sum(C_W^(1)*KroneckerDelta(i1, i2)*KroneckerDelta(k_3, k_4)*x[k_3, alpha1]*x[k_4, alpha2]/n_0, (k_3, 1, n_0), (k_4, 1, n_0))"
      ]
     },
     "execution_count": 6,
     "metadata": {},
     "output_type": "execute_result"
    }
   ],
   "source": [
    "A, B, C, D = wilds('A, B, C, D')\n",
    "\n",
    "gaussian_init_rules = {\n",
    "    ExpVal(W[A, B] * b[C]): 0,\n",
    "    ExpVal(b[A] * b[B]): C_b * sp.KroneckerDelta(A, B),\n",
    "    ExpVal(W[A, B] * W[C, D]): C_w * sp.KroneckerDelta(A, C) * sp.KroneckerDelta(B, D)/n_0\n",
    "}\n",
    "\n",
    "Ezz = wild_subs(Ezz, gaussian_init_rules)\n",
    "Ezz"
   ]
  },
  {
   "cell_type": "code",
   "execution_count": 7,
   "id": "1ac17438",
   "metadata": {},
   "outputs": [
    {
     "data": {
      "text/latex": [
       "$\\displaystyle C^{(1)}_{b} \\delta_{i_{1} i_{2}} + \\sum_{k_{3}=1}^{n_{0}} \\frac{C^{(1)}_{W} \\delta_{i_{1} i_{2}} {x}_{k_{3},\\alpha_{1}} {x}_{k_{3},\\alpha_{2}}}{n_{0}}$"
      ],
      "text/plain": [
       "C_b^(1)*KroneckerDelta(i1, i2) + Sum(C_W^(1)*KroneckerDelta(i1, i2)*x[k_3, alpha1]*x[k_3, alpha2]/n_0, (k_3, 1, n_0))"
      ]
     },
     "execution_count": 7,
     "metadata": {},
     "output_type": "execute_result"
    }
   ],
   "source": [
    "Ezz = sum_kronecker_contract(Ezz).doit()\n",
    "Ezz"
   ]
  },
  {
   "cell_type": "markdown",
   "id": "ef9732ff",
   "metadata": {},
   "source": [
    "## First-layer metric"
   ]
  },
  {
   "cell_type": "code",
   "execution_count": 8,
   "id": "63197bb8",
   "metadata": {},
   "outputs": [
    {
     "data": {
      "text/latex": [
       "$\\displaystyle \\frac{C^{(1)}_{W} \\sum_{k_{3}=1}^{n_{0}} {x}_{k_{3},\\alpha_{1}} {x}_{k_{3},\\alpha_{2}}}{n_{0}} + C^{(1)}_{b}$"
      ],
      "text/plain": [
       "C_W^(1)*Sum(x[k_3, alpha1]*x[k_3, alpha2], (k_3, 1, n_0))/n_0 + C_b^(1)"
      ]
     },
     "execution_count": 8,
     "metadata": {},
     "output_type": "execute_result"
    }
   ],
   "source": [
    "G_a1a2 = sp.simplify(Ezz)/sp.KroneckerDelta(i1,i2)\n",
    "G_a1a2"
   ]
  },
  {
   "cell_type": "code",
   "execution_count": 9,
   "id": "e75c3173",
   "metadata": {},
   "outputs": [
    {
     "data": {
      "text/latex": [
       "$\\displaystyle \\frac{C^{(1)}_{W} \\sum_{k_{5}=1}^{n_{0}} {x}_{k_{5},\\alpha_{1}} {x}_{k_{5},\\alpha_{2}}}{n_{0}} + C^{(1)}_{b}$"
      ],
      "text/plain": [
       "C_W^(1)*Sum(x[k_5, alpha1]*x[k_5, alpha2], (k_5, 1, n_0))/n_0 + C_b^(1)"
      ]
     },
     "execution_count": 9,
     "metadata": {},
     "output_type": "execute_result"
    }
   ],
   "source": [
    "z1.gaussian_init(C_w, C_b)\n",
    "G1 = z1.layer_metric\n",
    "G1[alpha1, alpha2]"
   ]
  },
  {
   "cell_type": "markdown",
   "id": "660c9531",
   "metadata": {},
   "source": [
    "# Four point correlator"
   ]
  },
  {
   "cell_type": "code",
   "execution_count": 10,
   "id": "49b988fe",
   "metadata": {},
   "outputs": [
    {
     "data": {
      "text/latex": [
       "$\\displaystyle {z^{(1)}}_{i_{1},\\alpha_{1}} {z^{(1)}}_{i_{2},\\alpha_{2}} {z^{(1)}}_{i_{3},\\alpha_{3}} {z^{(1)}}_{i_{4},\\alpha_{4}}$"
      ],
      "text/plain": [
       "z^(1)[i1, alpha1]*z^(1)[i2, alpha2]*z^(1)[i3, alpha3]*z^(1)[i4, alpha4]"
      ]
     },
     "execution_count": 10,
     "metadata": {},
     "output_type": "execute_result"
    }
   ],
   "source": [
    "z = GaussianIndexedBase('z^(1)')\n",
    "G = GaussianIndexedBase('G^(1)')\n",
    "zzzz = z[i1, alpha1] * z[i2, alpha2] * z[i3, alpha3] * z[i4, alpha4]\n",
    "zzzz"
   ]
  },
  {
   "cell_type": "code",
   "execution_count": 11,
   "id": "6afe0529",
   "metadata": {},
   "outputs": [
    {
     "data": {
      "text/latex": [
       "$\\displaystyle \\mathbb{E}\\left[{z^{(1)}}_{i_{1},\\alpha_{1}} {z^{(1)}}_{i_{2},\\alpha_{2}} {z^{(1)}}_{i_{3},\\alpha_{3}} {z^{(1)}}_{i_{4},\\alpha_{4}}\\right]$"
      ],
      "text/plain": [
       "𝔼[z^(1)[i1, alpha1]*z^(1)[i2, alpha2]*z^(1)[i3, alpha3]*z^(1)[i4, alpha4]]"
      ]
     },
     "execution_count": 11,
     "metadata": {},
     "output_type": "execute_result"
    }
   ],
   "source": [
    "Ezzzz: sp.Basic = ExpVal(pull_sums_out_front(sp.expand(zzzz)))\n",
    "Ezzzz"
   ]
  },
  {
   "cell_type": "code",
   "execution_count": 12,
   "id": "0049af69",
   "metadata": {},
   "outputs": [
    {
     "data": {
      "text/latex": [
       "$\\displaystyle \\mathbb{E}\\left[{z^{(1)}}_{i_{1},\\alpha_{1}} {z^{(1)}}_{i_{2},\\alpha_{2}}\\right] \\mathbb{E}\\left[{z^{(1)}}_{i_{3},\\alpha_{3}} {z^{(1)}}_{i_{4},\\alpha_{4}}\\right] + \\mathbb{E}\\left[{z^{(1)}}_{i_{1},\\alpha_{1}} {z^{(1)}}_{i_{3},\\alpha_{3}}\\right] \\mathbb{E}\\left[{z^{(1)}}_{i_{2},\\alpha_{2}} {z^{(1)}}_{i_{4},\\alpha_{4}}\\right] + \\mathbb{E}\\left[{z^{(1)}}_{i_{1},\\alpha_{1}} {z^{(1)}}_{i_{4},\\alpha_{4}}\\right] \\mathbb{E}\\left[{z^{(1)}}_{i_{2},\\alpha_{2}} {z^{(1)}}_{i_{3},\\alpha_{3}}\\right]$"
      ],
      "text/plain": [
       "𝔼[z^(1)[i1, alpha1]*z^(1)[i2, alpha2]]*𝔼[z^(1)[i3, alpha3]*z^(1)[i4, alpha4]] + 𝔼[z^(1)[i1, alpha1]*z^(1)[i3, alpha3]]*𝔼[z^(1)[i2, alpha2]*z^(1)[i4, alpha4]] + 𝔼[z^(1)[i1, alpha1]*z^(1)[i4, alpha4]]*𝔼[z^(1)[i2, alpha2]*z^(1)[i3, alpha3]]"
      ]
     },
     "execution_count": 12,
     "metadata": {},
     "output_type": "execute_result"
    }
   ],
   "source": [
    "Ezzzz = wick_contraction(Ezzzz)\n",
    "Ezzzz"
   ]
  },
  {
   "cell_type": "code",
   "execution_count": 13,
   "id": "4538c693",
   "metadata": {},
   "outputs": [
    {
     "data": {
      "text/latex": [
       "$\\displaystyle \\delta_{i_{1} i_{2}} \\delta_{i_{3} i_{4}} {G^{(1)}}_{\\alpha_{1},\\alpha_{2}} {G^{(1)}}_{\\alpha_{3},\\alpha_{4}} + \\delta_{i_{1} i_{3}} \\delta_{i_{2} i_{4}} {G^{(1)}}_{\\alpha_{1},\\alpha_{3}} {G^{(1)}}_{\\alpha_{2},\\alpha_{4}} + \\delta_{i_{1} i_{4}} \\delta_{i_{2} i_{3}} {G^{(1)}}_{\\alpha_{1},\\alpha_{4}} {G^{(1)}}_{\\alpha_{2},\\alpha_{3}}$"
      ],
      "text/plain": [
       "KroneckerDelta(i1, i2)*KroneckerDelta(i3, i4)*G^(1)[alpha1, alpha2]*G^(1)[alpha3, alpha4] + KroneckerDelta(i1, i3)*KroneckerDelta(i2, i4)*G^(1)[alpha1, alpha3]*G^(1)[alpha2, alpha4] + KroneckerDelta(i1, i4)*KroneckerDelta(i2, i3)*G^(1)[alpha1, alpha4]*G^(1)[alpha2, alpha3]"
      ]
     },
     "execution_count": 13,
     "metadata": {},
     "output_type": "execute_result"
    }
   ],
   "source": [
    "Ezzzz.replace(ExpVal(z[A, B] * z[C, D]), sp.KroneckerDelta(A, C) * G[B, D])"
   ]
  }
 ],
 "metadata": {
  "kernelspec": {
   "display_name": "qml",
   "language": "python",
   "name": "python3"
  },
  "language_info": {
   "codemirror_mode": {
    "name": "ipython",
    "version": 3
   },
   "file_extension": ".py",
   "mimetype": "text/x-python",
   "name": "python",
   "nbconvert_exporter": "python",
   "pygments_lexer": "ipython3",
   "version": "3.12.10"
  }
 },
 "nbformat": 4,
 "nbformat_minor": 5
}
