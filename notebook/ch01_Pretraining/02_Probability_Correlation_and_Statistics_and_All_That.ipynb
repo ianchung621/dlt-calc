{
 "cells": [
  {
   "cell_type": "markdown",
   "id": "81d669ef",
   "metadata": {},
   "source": [
    "# Probability, Correlation and Statistics, and All That"
   ]
  },
  {
   "cell_type": "code",
   "execution_count": 1,
   "id": "8c5d28b2",
   "metadata": {},
   "outputs": [],
   "source": [
    "import sympy as sp\n",
    "from symlib.random import ExpVal, connected_correlator\n",
    "from symlib.gaussian import wick_contraction, GaussianIndexedBase"
   ]
  },
  {
   "cell_type": "code",
   "execution_count": 2,
   "id": "4e0e9d46",
   "metadata": {},
   "outputs": [],
   "source": [
    "z = GaussianIndexedBase('z')\n",
    "mu = sp.symbols('mu1:7', integer=True)"
   ]
  },
  {
   "cell_type": "markdown",
   "id": "e977c87f",
   "metadata": {},
   "source": [
    "## Connected correlator"
   ]
  },
  {
   "cell_type": "code",
   "execution_count": 3,
   "id": "7cb59929",
   "metadata": {},
   "outputs": [
    {
     "data": {
      "text/latex": [
       "$\\displaystyle \\mathbb{E}\\left[{z}_{\\mu_{1}} {z}_{\\mu_{2}}\\right] - \\mathbb{E}\\left[{z}_{\\mu_{1}}\\right] \\mathbb{E}\\left[{z}_{\\mu_{2}}\\right]$"
      ],
      "text/plain": [
       "𝔼[z[mu1]*z[mu2]] - 𝔼[z[mu1]]*𝔼[z[mu2]]"
      ]
     },
     "execution_count": 3,
     "metadata": {},
     "output_type": "execute_result"
    }
   ],
   "source": [
    "conn2 = connected_correlator(z, mu[:2], even_parity=False)\n",
    "conn2"
   ]
  },
  {
   "cell_type": "code",
   "execution_count": 4,
   "id": "893a219b",
   "metadata": {},
   "outputs": [
    {
     "data": {
      "text/latex": [
       "$\\displaystyle - \\left(\\mathbb{E}\\left[{z}_{\\mu_{1}} {z}_{\\mu_{2}}\\right] - \\mathbb{E}\\left[{z}_{\\mu_{1}}\\right] \\mathbb{E}\\left[{z}_{\\mu_{2}}\\right]\\right) \\left(\\mathbb{E}\\left[{z}_{\\mu_{3}} {z}_{\\mu_{4}}\\right] - \\mathbb{E}\\left[{z}_{\\mu_{3}}\\right] \\mathbb{E}\\left[{z}_{\\mu_{4}}\\right]\\right) - \\left(\\mathbb{E}\\left[{z}_{\\mu_{1}} {z}_{\\mu_{2}}\\right] - \\mathbb{E}\\left[{z}_{\\mu_{1}}\\right] \\mathbb{E}\\left[{z}_{\\mu_{2}}\\right]\\right) \\mathbb{E}\\left[{z}_{\\mu_{3}}\\right] \\mathbb{E}\\left[{z}_{\\mu_{4}}\\right] - \\left(\\mathbb{E}\\left[{z}_{\\mu_{1}} {z}_{\\mu_{3}}\\right] - \\mathbb{E}\\left[{z}_{\\mu_{1}}\\right] \\mathbb{E}\\left[{z}_{\\mu_{3}}\\right]\\right) \\left(\\mathbb{E}\\left[{z}_{\\mu_{2}} {z}_{\\mu_{4}}\\right] - \\mathbb{E}\\left[{z}_{\\mu_{2}}\\right] \\mathbb{E}\\left[{z}_{\\mu_{4}}\\right]\\right) - \\left(\\mathbb{E}\\left[{z}_{\\mu_{1}} {z}_{\\mu_{3}}\\right] - \\mathbb{E}\\left[{z}_{\\mu_{1}}\\right] \\mathbb{E}\\left[{z}_{\\mu_{3}}\\right]\\right) \\mathbb{E}\\left[{z}_{\\mu_{2}}\\right] \\mathbb{E}\\left[{z}_{\\mu_{4}}\\right] - \\left(\\mathbb{E}\\left[{z}_{\\mu_{1}} {z}_{\\mu_{4}}\\right] - \\mathbb{E}\\left[{z}_{\\mu_{1}}\\right] \\mathbb{E}\\left[{z}_{\\mu_{4}}\\right]\\right) \\left(\\mathbb{E}\\left[{z}_{\\mu_{2}} {z}_{\\mu_{3}}\\right] - \\mathbb{E}\\left[{z}_{\\mu_{2}}\\right] \\mathbb{E}\\left[{z}_{\\mu_{3}}\\right]\\right) - \\left(\\mathbb{E}\\left[{z}_{\\mu_{1}} {z}_{\\mu_{4}}\\right] - \\mathbb{E}\\left[{z}_{\\mu_{1}}\\right] \\mathbb{E}\\left[{z}_{\\mu_{4}}\\right]\\right) \\mathbb{E}\\left[{z}_{\\mu_{2}}\\right] \\mathbb{E}\\left[{z}_{\\mu_{3}}\\right] - \\left(\\mathbb{E}\\left[{z}_{\\mu_{2}} {z}_{\\mu_{3}}\\right] - \\mathbb{E}\\left[{z}_{\\mu_{2}}\\right] \\mathbb{E}\\left[{z}_{\\mu_{3}}\\right]\\right) \\mathbb{E}\\left[{z}_{\\mu_{1}}\\right] \\mathbb{E}\\left[{z}_{\\mu_{4}}\\right] - \\left(\\mathbb{E}\\left[{z}_{\\mu_{2}} {z}_{\\mu_{4}}\\right] - \\mathbb{E}\\left[{z}_{\\mu_{2}}\\right] \\mathbb{E}\\left[{z}_{\\mu_{4}}\\right]\\right) \\mathbb{E}\\left[{z}_{\\mu_{1}}\\right] \\mathbb{E}\\left[{z}_{\\mu_{3}}\\right] - \\left(\\mathbb{E}\\left[{z}_{\\mu_{3}} {z}_{\\mu_{4}}\\right] - \\mathbb{E}\\left[{z}_{\\mu_{3}}\\right] \\mathbb{E}\\left[{z}_{\\mu_{4}}\\right]\\right) \\mathbb{E}\\left[{z}_{\\mu_{1}}\\right] \\mathbb{E}\\left[{z}_{\\mu_{2}}\\right] - \\left(- \\left(\\mathbb{E}\\left[{z}_{\\mu_{1}} {z}_{\\mu_{2}}\\right] - \\mathbb{E}\\left[{z}_{\\mu_{1}}\\right] \\mathbb{E}\\left[{z}_{\\mu_{2}}\\right]\\right) \\mathbb{E}\\left[{z}_{\\mu_{3}}\\right] - \\left(\\mathbb{E}\\left[{z}_{\\mu_{1}} {z}_{\\mu_{3}}\\right] - \\mathbb{E}\\left[{z}_{\\mu_{1}}\\right] \\mathbb{E}\\left[{z}_{\\mu_{3}}\\right]\\right) \\mathbb{E}\\left[{z}_{\\mu_{2}}\\right] - \\left(\\mathbb{E}\\left[{z}_{\\mu_{2}} {z}_{\\mu_{3}}\\right] - \\mathbb{E}\\left[{z}_{\\mu_{2}}\\right] \\mathbb{E}\\left[{z}_{\\mu_{3}}\\right]\\right) \\mathbb{E}\\left[{z}_{\\mu_{1}}\\right] + \\mathbb{E}\\left[{z}_{\\mu_{1}} {z}_{\\mu_{2}} {z}_{\\mu_{3}}\\right] - \\mathbb{E}\\left[{z}_{\\mu_{1}}\\right] \\mathbb{E}\\left[{z}_{\\mu_{2}}\\right] \\mathbb{E}\\left[{z}_{\\mu_{3}}\\right]\\right) \\mathbb{E}\\left[{z}_{\\mu_{4}}\\right] - \\left(- \\left(\\mathbb{E}\\left[{z}_{\\mu_{1}} {z}_{\\mu_{2}}\\right] - \\mathbb{E}\\left[{z}_{\\mu_{1}}\\right] \\mathbb{E}\\left[{z}_{\\mu_{2}}\\right]\\right) \\mathbb{E}\\left[{z}_{\\mu_{4}}\\right] - \\left(\\mathbb{E}\\left[{z}_{\\mu_{1}} {z}_{\\mu_{4}}\\right] - \\mathbb{E}\\left[{z}_{\\mu_{1}}\\right] \\mathbb{E}\\left[{z}_{\\mu_{4}}\\right]\\right) \\mathbb{E}\\left[{z}_{\\mu_{2}}\\right] - \\left(\\mathbb{E}\\left[{z}_{\\mu_{2}} {z}_{\\mu_{4}}\\right] - \\mathbb{E}\\left[{z}_{\\mu_{2}}\\right] \\mathbb{E}\\left[{z}_{\\mu_{4}}\\right]\\right) \\mathbb{E}\\left[{z}_{\\mu_{1}}\\right] + \\mathbb{E}\\left[{z}_{\\mu_{1}} {z}_{\\mu_{2}} {z}_{\\mu_{4}}\\right] - \\mathbb{E}\\left[{z}_{\\mu_{1}}\\right] \\mathbb{E}\\left[{z}_{\\mu_{2}}\\right] \\mathbb{E}\\left[{z}_{\\mu_{4}}\\right]\\right) \\mathbb{E}\\left[{z}_{\\mu_{3}}\\right] - \\left(- \\left(\\mathbb{E}\\left[{z}_{\\mu_{1}} {z}_{\\mu_{3}}\\right] - \\mathbb{E}\\left[{z}_{\\mu_{1}}\\right] \\mathbb{E}\\left[{z}_{\\mu_{3}}\\right]\\right) \\mathbb{E}\\left[{z}_{\\mu_{4}}\\right] - \\left(\\mathbb{E}\\left[{z}_{\\mu_{1}} {z}_{\\mu_{4}}\\right] - \\mathbb{E}\\left[{z}_{\\mu_{1}}\\right] \\mathbb{E}\\left[{z}_{\\mu_{4}}\\right]\\right) \\mathbb{E}\\left[{z}_{\\mu_{3}}\\right] - \\left(\\mathbb{E}\\left[{z}_{\\mu_{3}} {z}_{\\mu_{4}}\\right] - \\mathbb{E}\\left[{z}_{\\mu_{3}}\\right] \\mathbb{E}\\left[{z}_{\\mu_{4}}\\right]\\right) \\mathbb{E}\\left[{z}_{\\mu_{1}}\\right] + \\mathbb{E}\\left[{z}_{\\mu_{1}} {z}_{\\mu_{3}} {z}_{\\mu_{4}}\\right] - \\mathbb{E}\\left[{z}_{\\mu_{1}}\\right] \\mathbb{E}\\left[{z}_{\\mu_{3}}\\right] \\mathbb{E}\\left[{z}_{\\mu_{4}}\\right]\\right) \\mathbb{E}\\left[{z}_{\\mu_{2}}\\right] - \\left(- \\left(\\mathbb{E}\\left[{z}_{\\mu_{2}} {z}_{\\mu_{3}}\\right] - \\mathbb{E}\\left[{z}_{\\mu_{2}}\\right] \\mathbb{E}\\left[{z}_{\\mu_{3}}\\right]\\right) \\mathbb{E}\\left[{z}_{\\mu_{4}}\\right] - \\left(\\mathbb{E}\\left[{z}_{\\mu_{2}} {z}_{\\mu_{4}}\\right] - \\mathbb{E}\\left[{z}_{\\mu_{2}}\\right] \\mathbb{E}\\left[{z}_{\\mu_{4}}\\right]\\right) \\mathbb{E}\\left[{z}_{\\mu_{3}}\\right] - \\left(\\mathbb{E}\\left[{z}_{\\mu_{3}} {z}_{\\mu_{4}}\\right] - \\mathbb{E}\\left[{z}_{\\mu_{3}}\\right] \\mathbb{E}\\left[{z}_{\\mu_{4}}\\right]\\right) \\mathbb{E}\\left[{z}_{\\mu_{2}}\\right] + \\mathbb{E}\\left[{z}_{\\mu_{2}} {z}_{\\mu_{3}} {z}_{\\mu_{4}}\\right] - \\mathbb{E}\\left[{z}_{\\mu_{2}}\\right] \\mathbb{E}\\left[{z}_{\\mu_{3}}\\right] \\mathbb{E}\\left[{z}_{\\mu_{4}}\\right]\\right) \\mathbb{E}\\left[{z}_{\\mu_{1}}\\right] + \\mathbb{E}\\left[{z}_{\\mu_{1}} {z}_{\\mu_{2}} {z}_{\\mu_{3}} {z}_{\\mu_{4}}\\right] - \\mathbb{E}\\left[{z}_{\\mu_{1}}\\right] \\mathbb{E}\\left[{z}_{\\mu_{2}}\\right] \\mathbb{E}\\left[{z}_{\\mu_{3}}\\right] \\mathbb{E}\\left[{z}_{\\mu_{4}}\\right]$"
      ],
      "text/plain": [
       "-(𝔼[z[mu1]*z[mu2]] - 𝔼[z[mu1]]*𝔼[z[mu2]])*(𝔼[z[mu3]*z[mu4]] - 𝔼[z[mu3]]*𝔼[z[mu4]]) - (𝔼[z[mu1]*z[mu2]] - 𝔼[z[mu1]]*𝔼[z[mu2]])*𝔼[z[mu3]]*𝔼[z[mu4]] - (𝔼[z[mu1]*z[mu3]] - 𝔼[z[mu1]]*𝔼[z[mu3]])*(𝔼[z[mu2]*z[mu4]] - 𝔼[z[mu2]]*𝔼[z[mu4]]) - (𝔼[z[mu1]*z[mu3]] - 𝔼[z[mu1]]*𝔼[z[mu3]])*𝔼[z[mu2]]*𝔼[z[mu4]] - (𝔼[z[mu1]*z[mu4]] - 𝔼[z[mu1]]*𝔼[z[mu4]])*(𝔼[z[mu2]*z[mu3]] - 𝔼[z[mu2]]*𝔼[z[mu3]]) - (𝔼[z[mu1]*z[mu4]] - 𝔼[z[mu1]]*𝔼[z[mu4]])*𝔼[z[mu2]]*𝔼[z[mu3]] - (𝔼[z[mu2]*z[mu3]] - 𝔼[z[mu2]]*𝔼[z[mu3]])*𝔼[z[mu1]]*𝔼[z[mu4]] - (𝔼[z[mu2]*z[mu4]] - 𝔼[z[mu2]]*𝔼[z[mu4]])*𝔼[z[mu1]]*𝔼[z[mu3]] - (𝔼[z[mu3]*z[mu4]] - 𝔼[z[mu3]]*𝔼[z[mu4]])*𝔼[z[mu1]]*𝔼[z[mu2]] - (-(𝔼[z[mu1]*z[mu2]] - 𝔼[z[mu1]]*𝔼[z[mu2]])*𝔼[z[mu3]] - (𝔼[z[mu1]*z[mu3]] - 𝔼[z[mu1]]*𝔼[z[mu3]])*𝔼[z[mu2]] - (𝔼[z[mu2]*z[mu3]] - 𝔼[z[mu2]]*𝔼[z[mu3]])*𝔼[z[mu1]] + 𝔼[z[mu1]*z[mu2]*z[mu3]] - 𝔼[z[mu1]]*𝔼[z[mu2]]*𝔼[z[mu3]])*𝔼[z[mu4]] - (-(𝔼[z[mu1]*z[mu2]] - 𝔼[z[mu1]]*𝔼[z[mu2]])*𝔼[z[mu4]] - (𝔼[z[mu1]*z[mu4]] - 𝔼[z[mu1]]*𝔼[z[mu4]])*𝔼[z[mu2]] - (𝔼[z[mu2]*z[mu4]] - 𝔼[z[mu2]]*𝔼[z[mu4]])*𝔼[z[mu1]] + 𝔼[z[mu1]*z[mu2]*z[mu4]] - 𝔼[z[mu1]]*𝔼[z[mu2]]*𝔼[z[mu4]])*𝔼[z[mu3]] - (-(𝔼[z[mu1]*z[mu3]] - 𝔼[z[mu1]]*𝔼[z[mu3]])*𝔼[z[mu4]] - (𝔼[z[mu1]*z[mu4]] - 𝔼[z[mu1]]*𝔼[z[mu4]])*𝔼[z[mu3]] - (𝔼[z[mu3]*z[mu4]] - 𝔼[z[mu3]]*𝔼[z[mu4]])*𝔼[z[mu1]] + 𝔼[z[mu1]*z[mu3]*z[mu4]] - 𝔼[z[mu1]]*𝔼[z[mu3]]*𝔼[z[mu4]])*𝔼[z[mu2]] - (-(𝔼[z[mu2]*z[mu3]] - 𝔼[z[mu2]]*𝔼[z[mu3]])*𝔼[z[mu4]] - (𝔼[z[mu2]*z[mu4]] - 𝔼[z[mu2]]*𝔼[z[mu4]])*𝔼[z[mu3]] - (𝔼[z[mu3]*z[mu4]] - 𝔼[z[mu3]]*𝔼[z[mu4]])*𝔼[z[mu2]] + 𝔼[z[mu2]*z[mu3]*z[mu4]] - 𝔼[z[mu2]]*𝔼[z[mu3]]*𝔼[z[mu4]])*𝔼[z[mu1]] + 𝔼[z[mu1]*z[mu2]*z[mu3]*z[mu4]] - 𝔼[z[mu1]]*𝔼[z[mu2]]*𝔼[z[mu3]]*𝔼[z[mu4]]"
      ]
     },
     "execution_count": 4,
     "metadata": {},
     "output_type": "execute_result"
    }
   ],
   "source": [
    "conn4 = connected_correlator(z, mu[:4], even_parity=False)\n",
    "conn4"
   ]
  },
  {
   "cell_type": "markdown",
   "id": "31848c25",
   "metadata": {},
   "source": [
    "# Assume even parity z ↔ -z "
   ]
  },
  {
   "cell_type": "code",
   "execution_count": 5,
   "id": "71adf485",
   "metadata": {},
   "outputs": [
    {
     "data": {
      "text/latex": [
       "$\\displaystyle - \\mathbb{E}\\left[{z}_{\\mu_{1}} {z}_{\\mu_{2}}\\right] \\mathbb{E}\\left[{z}_{\\mu_{3}} {z}_{\\mu_{4}}\\right] - \\mathbb{E}\\left[{z}_{\\mu_{1}} {z}_{\\mu_{3}}\\right] \\mathbb{E}\\left[{z}_{\\mu_{2}} {z}_{\\mu_{4}}\\right] - \\mathbb{E}\\left[{z}_{\\mu_{1}} {z}_{\\mu_{4}}\\right] \\mathbb{E}\\left[{z}_{\\mu_{2}} {z}_{\\mu_{3}}\\right] + \\mathbb{E}\\left[{z}_{\\mu_{1}} {z}_{\\mu_{2}} {z}_{\\mu_{3}} {z}_{\\mu_{4}}\\right]$"
      ],
      "text/plain": [
       "-𝔼[z[mu1]*z[mu2]]*𝔼[z[mu3]*z[mu4]] - 𝔼[z[mu1]*z[mu3]]*𝔼[z[mu2]*z[mu4]] - 𝔼[z[mu1]*z[mu4]]*𝔼[z[mu2]*z[mu3]] + 𝔼[z[mu1]*z[mu2]*z[mu3]*z[mu4]]"
      ]
     },
     "execution_count": 5,
     "metadata": {},
     "output_type": "execute_result"
    }
   ],
   "source": [
    "conn4 = connected_correlator(z, mu[:4], even_parity=True)\n",
    "conn4"
   ]
  },
  {
   "cell_type": "code",
   "execution_count": 6,
   "id": "3c30e81a",
   "metadata": {},
   "outputs": [
    {
     "data": {
      "text/latex": [
       "$\\displaystyle 2 \\mathbb{E}\\left[{z}_{\\mu_{1}} {z}_{\\mu_{2}}\\right] \\mathbb{E}\\left[{z}_{\\mu_{3}} {z}_{\\mu_{4}}\\right] \\mathbb{E}\\left[{z}_{\\mu_{5}} {z}_{\\mu_{6}}\\right] + 2 \\mathbb{E}\\left[{z}_{\\mu_{1}} {z}_{\\mu_{2}}\\right] \\mathbb{E}\\left[{z}_{\\mu_{3}} {z}_{\\mu_{5}}\\right] \\mathbb{E}\\left[{z}_{\\mu_{4}} {z}_{\\mu_{6}}\\right] + 2 \\mathbb{E}\\left[{z}_{\\mu_{1}} {z}_{\\mu_{2}}\\right] \\mathbb{E}\\left[{z}_{\\mu_{3}} {z}_{\\mu_{6}}\\right] \\mathbb{E}\\left[{z}_{\\mu_{4}} {z}_{\\mu_{5}}\\right] - \\mathbb{E}\\left[{z}_{\\mu_{1}} {z}_{\\mu_{2}}\\right] \\mathbb{E}\\left[{z}_{\\mu_{3}} {z}_{\\mu_{4}} {z}_{\\mu_{5}} {z}_{\\mu_{6}}\\right] + 2 \\mathbb{E}\\left[{z}_{\\mu_{1}} {z}_{\\mu_{3}}\\right] \\mathbb{E}\\left[{z}_{\\mu_{2}} {z}_{\\mu_{4}}\\right] \\mathbb{E}\\left[{z}_{\\mu_{5}} {z}_{\\mu_{6}}\\right] + 2 \\mathbb{E}\\left[{z}_{\\mu_{1}} {z}_{\\mu_{3}}\\right] \\mathbb{E}\\left[{z}_{\\mu_{2}} {z}_{\\mu_{5}}\\right] \\mathbb{E}\\left[{z}_{\\mu_{4}} {z}_{\\mu_{6}}\\right] + 2 \\mathbb{E}\\left[{z}_{\\mu_{1}} {z}_{\\mu_{3}}\\right] \\mathbb{E}\\left[{z}_{\\mu_{2}} {z}_{\\mu_{6}}\\right] \\mathbb{E}\\left[{z}_{\\mu_{4}} {z}_{\\mu_{5}}\\right] - \\mathbb{E}\\left[{z}_{\\mu_{1}} {z}_{\\mu_{3}}\\right] \\mathbb{E}\\left[{z}_{\\mu_{2}} {z}_{\\mu_{4}} {z}_{\\mu_{5}} {z}_{\\mu_{6}}\\right] + 2 \\mathbb{E}\\left[{z}_{\\mu_{1}} {z}_{\\mu_{4}}\\right] \\mathbb{E}\\left[{z}_{\\mu_{2}} {z}_{\\mu_{3}}\\right] \\mathbb{E}\\left[{z}_{\\mu_{5}} {z}_{\\mu_{6}}\\right] + 2 \\mathbb{E}\\left[{z}_{\\mu_{1}} {z}_{\\mu_{4}}\\right] \\mathbb{E}\\left[{z}_{\\mu_{2}} {z}_{\\mu_{5}}\\right] \\mathbb{E}\\left[{z}_{\\mu_{3}} {z}_{\\mu_{6}}\\right] + 2 \\mathbb{E}\\left[{z}_{\\mu_{1}} {z}_{\\mu_{4}}\\right] \\mathbb{E}\\left[{z}_{\\mu_{2}} {z}_{\\mu_{6}}\\right] \\mathbb{E}\\left[{z}_{\\mu_{3}} {z}_{\\mu_{5}}\\right] - \\mathbb{E}\\left[{z}_{\\mu_{1}} {z}_{\\mu_{4}}\\right] \\mathbb{E}\\left[{z}_{\\mu_{2}} {z}_{\\mu_{3}} {z}_{\\mu_{5}} {z}_{\\mu_{6}}\\right] + 2 \\mathbb{E}\\left[{z}_{\\mu_{1}} {z}_{\\mu_{5}}\\right] \\mathbb{E}\\left[{z}_{\\mu_{2}} {z}_{\\mu_{3}}\\right] \\mathbb{E}\\left[{z}_{\\mu_{4}} {z}_{\\mu_{6}}\\right] + 2 \\mathbb{E}\\left[{z}_{\\mu_{1}} {z}_{\\mu_{5}}\\right] \\mathbb{E}\\left[{z}_{\\mu_{2}} {z}_{\\mu_{4}}\\right] \\mathbb{E}\\left[{z}_{\\mu_{3}} {z}_{\\mu_{6}}\\right] + 2 \\mathbb{E}\\left[{z}_{\\mu_{1}} {z}_{\\mu_{5}}\\right] \\mathbb{E}\\left[{z}_{\\mu_{2}} {z}_{\\mu_{6}}\\right] \\mathbb{E}\\left[{z}_{\\mu_{3}} {z}_{\\mu_{4}}\\right] - \\mathbb{E}\\left[{z}_{\\mu_{1}} {z}_{\\mu_{5}}\\right] \\mathbb{E}\\left[{z}_{\\mu_{2}} {z}_{\\mu_{3}} {z}_{\\mu_{4}} {z}_{\\mu_{6}}\\right] + 2 \\mathbb{E}\\left[{z}_{\\mu_{1}} {z}_{\\mu_{6}}\\right] \\mathbb{E}\\left[{z}_{\\mu_{2}} {z}_{\\mu_{3}}\\right] \\mathbb{E}\\left[{z}_{\\mu_{4}} {z}_{\\mu_{5}}\\right] + 2 \\mathbb{E}\\left[{z}_{\\mu_{1}} {z}_{\\mu_{6}}\\right] \\mathbb{E}\\left[{z}_{\\mu_{2}} {z}_{\\mu_{4}}\\right] \\mathbb{E}\\left[{z}_{\\mu_{3}} {z}_{\\mu_{5}}\\right] + 2 \\mathbb{E}\\left[{z}_{\\mu_{1}} {z}_{\\mu_{6}}\\right] \\mathbb{E}\\left[{z}_{\\mu_{2}} {z}_{\\mu_{5}}\\right] \\mathbb{E}\\left[{z}_{\\mu_{3}} {z}_{\\mu_{4}}\\right] - \\mathbb{E}\\left[{z}_{\\mu_{1}} {z}_{\\mu_{6}}\\right] \\mathbb{E}\\left[{z}_{\\mu_{2}} {z}_{\\mu_{3}} {z}_{\\mu_{4}} {z}_{\\mu_{5}}\\right] - \\mathbb{E}\\left[{z}_{\\mu_{2}} {z}_{\\mu_{3}}\\right] \\mathbb{E}\\left[{z}_{\\mu_{1}} {z}_{\\mu_{4}} {z}_{\\mu_{5}} {z}_{\\mu_{6}}\\right] - \\mathbb{E}\\left[{z}_{\\mu_{2}} {z}_{\\mu_{4}}\\right] \\mathbb{E}\\left[{z}_{\\mu_{1}} {z}_{\\mu_{3}} {z}_{\\mu_{5}} {z}_{\\mu_{6}}\\right] - \\mathbb{E}\\left[{z}_{\\mu_{2}} {z}_{\\mu_{5}}\\right] \\mathbb{E}\\left[{z}_{\\mu_{1}} {z}_{\\mu_{3}} {z}_{\\mu_{4}} {z}_{\\mu_{6}}\\right] - \\mathbb{E}\\left[{z}_{\\mu_{2}} {z}_{\\mu_{6}}\\right] \\mathbb{E}\\left[{z}_{\\mu_{1}} {z}_{\\mu_{3}} {z}_{\\mu_{4}} {z}_{\\mu_{5}}\\right] - \\mathbb{E}\\left[{z}_{\\mu_{3}} {z}_{\\mu_{4}}\\right] \\mathbb{E}\\left[{z}_{\\mu_{1}} {z}_{\\mu_{2}} {z}_{\\mu_{5}} {z}_{\\mu_{6}}\\right] - \\mathbb{E}\\left[{z}_{\\mu_{3}} {z}_{\\mu_{5}}\\right] \\mathbb{E}\\left[{z}_{\\mu_{1}} {z}_{\\mu_{2}} {z}_{\\mu_{4}} {z}_{\\mu_{6}}\\right] - \\mathbb{E}\\left[{z}_{\\mu_{3}} {z}_{\\mu_{6}}\\right] \\mathbb{E}\\left[{z}_{\\mu_{1}} {z}_{\\mu_{2}} {z}_{\\mu_{4}} {z}_{\\mu_{5}}\\right] - \\mathbb{E}\\left[{z}_{\\mu_{4}} {z}_{\\mu_{5}}\\right] \\mathbb{E}\\left[{z}_{\\mu_{1}} {z}_{\\mu_{2}} {z}_{\\mu_{3}} {z}_{\\mu_{6}}\\right] - \\mathbb{E}\\left[{z}_{\\mu_{4}} {z}_{\\mu_{6}}\\right] \\mathbb{E}\\left[{z}_{\\mu_{1}} {z}_{\\mu_{2}} {z}_{\\mu_{3}} {z}_{\\mu_{5}}\\right] - \\mathbb{E}\\left[{z}_{\\mu_{5}} {z}_{\\mu_{6}}\\right] \\mathbb{E}\\left[{z}_{\\mu_{1}} {z}_{\\mu_{2}} {z}_{\\mu_{3}} {z}_{\\mu_{4}}\\right] + \\mathbb{E}\\left[{z}_{\\mu_{1}} {z}_{\\mu_{2}} {z}_{\\mu_{3}} {z}_{\\mu_{4}} {z}_{\\mu_{5}} {z}_{\\mu_{6}}\\right]$"
      ],
      "text/plain": [
       "2*𝔼[z[mu1]*z[mu2]]*𝔼[z[mu3]*z[mu4]]*𝔼[z[mu5]*z[mu6]] + 2*𝔼[z[mu1]*z[mu2]]*𝔼[z[mu3]*z[mu5]]*𝔼[z[mu4]*z[mu6]] + 2*𝔼[z[mu1]*z[mu2]]*𝔼[z[mu3]*z[mu6]]*𝔼[z[mu4]*z[mu5]] - 𝔼[z[mu1]*z[mu2]]*𝔼[z[mu3]*z[mu4]*z[mu5]*z[mu6]] + 2*𝔼[z[mu1]*z[mu3]]*𝔼[z[mu2]*z[mu4]]*𝔼[z[mu5]*z[mu6]] + 2*𝔼[z[mu1]*z[mu3]]*𝔼[z[mu2]*z[mu5]]*𝔼[z[mu4]*z[mu6]] + 2*𝔼[z[mu1]*z[mu3]]*𝔼[z[mu2]*z[mu6]]*𝔼[z[mu4]*z[mu5]] - 𝔼[z[mu1]*z[mu3]]*𝔼[z[mu2]*z[mu4]*z[mu5]*z[mu6]] + 2*𝔼[z[mu1]*z[mu4]]*𝔼[z[mu2]*z[mu3]]*𝔼[z[mu5]*z[mu6]] + 2*𝔼[z[mu1]*z[mu4]]*𝔼[z[mu2]*z[mu5]]*𝔼[z[mu3]*z[mu6]] + 2*𝔼[z[mu1]*z[mu4]]*𝔼[z[mu2]*z[mu6]]*𝔼[z[mu3]*z[mu5]] - 𝔼[z[mu1]*z[mu4]]*𝔼[z[mu2]*z[mu3]*z[mu5]*z[mu6]] + 2*𝔼[z[mu1]*z[mu5]]*𝔼[z[mu2]*z[mu3]]*𝔼[z[mu4]*z[mu6]] + 2*𝔼[z[mu1]*z[mu5]]*𝔼[z[mu2]*z[mu4]]*𝔼[z[mu3]*z[mu6]] + 2*𝔼[z[mu1]*z[mu5]]*𝔼[z[mu2]*z[mu6]]*𝔼[z[mu3]*z[mu4]] - 𝔼[z[mu1]*z[mu5]]*𝔼[z[mu2]*z[mu3]*z[mu4]*z[mu6]] + 2*𝔼[z[mu1]*z[mu6]]*𝔼[z[mu2]*z[mu3]]*𝔼[z[mu4]*z[mu5]] + 2*𝔼[z[mu1]*z[mu6]]*𝔼[z[mu2]*z[mu4]]*𝔼[z[mu3]*z[mu5]] + 2*𝔼[z[mu1]*z[mu6]]*𝔼[z[mu2]*z[mu5]]*𝔼[z[mu3]*z[mu4]] - 𝔼[z[mu1]*z[mu6]]*𝔼[z[mu2]*z[mu3]*z[mu4]*z[mu5]] - 𝔼[z[mu2]*z[mu3]]*𝔼[z[mu1]*z[mu4]*z[mu5]*z[mu6]] - 𝔼[z[mu2]*z[mu4]]*𝔼[z[mu1]*z[mu3]*z[mu5]*z[mu6]] - 𝔼[z[mu2]*z[mu5]]*𝔼[z[mu1]*z[mu3]*z[mu4]*z[mu6]] - 𝔼[z[mu2]*z[mu6]]*𝔼[z[mu1]*z[mu3]*z[mu4]*z[mu5]] - 𝔼[z[mu3]*z[mu4]]*𝔼[z[mu1]*z[mu2]*z[mu5]*z[mu6]] - 𝔼[z[mu3]*z[mu5]]*𝔼[z[mu1]*z[mu2]*z[mu4]*z[mu6]] - 𝔼[z[mu3]*z[mu6]]*𝔼[z[mu1]*z[mu2]*z[mu4]*z[mu5]] - 𝔼[z[mu4]*z[mu5]]*𝔼[z[mu1]*z[mu2]*z[mu3]*z[mu6]] - 𝔼[z[mu4]*z[mu6]]*𝔼[z[mu1]*z[mu2]*z[mu3]*z[mu5]] - 𝔼[z[mu5]*z[mu6]]*𝔼[z[mu1]*z[mu2]*z[mu3]*z[mu4]] + 𝔼[z[mu1]*z[mu2]*z[mu3]*z[mu4]*z[mu5]*z[mu6]]"
      ]
     },
     "execution_count": 6,
     "metadata": {},
     "output_type": "execute_result"
    }
   ],
   "source": [
    "conn6 = connected_correlator(z, mu[:6], even_parity=True)\n",
    "conn6 = sp.simplify(conn6)\n",
    "conn6"
   ]
  },
  {
   "cell_type": "markdown",
   "id": "92fe75bd",
   "metadata": {},
   "source": [
    "# Assume Gaussian, apply wick contraction"
   ]
  },
  {
   "cell_type": "code",
   "execution_count": 7,
   "id": "1ceb4865",
   "metadata": {},
   "outputs": [
    {
     "name": "stdout",
     "output_type": "stream",
     "text": [
      "4-point connected correlator value: 0\n",
      "6-point connected correlator value: -(𝔼[z[mu1]*z[mu2]]*𝔼[z[mu3]*z[mu4]] + 𝔼[z[mu1]*z[mu3]]*𝔼[z[mu2]*z[mu4]] + 𝔼[z[mu1]*z[mu4]]*𝔼[z[mu2]*z[mu3]])*𝔼[z[mu5]*z[mu6]] - (𝔼[z[mu1]*z[mu2]]*𝔼[z[mu3]*z[mu5]] + 𝔼[z[mu1]*z[mu3]]*𝔼[z[mu2]*z[mu5]] + 𝔼[z[mu1]*z[mu5]]*𝔼[z[mu2]*z[mu3]])*𝔼[z[mu4]*z[mu6]] - (𝔼[z[mu1]*z[mu2]]*𝔼[z[mu3]*z[mu6]] + 𝔼[z[mu1]*z[mu3]]*𝔼[z[mu2]*z[mu6]] + 𝔼[z[mu1]*z[mu6]]*𝔼[z[mu2]*z[mu3]])*𝔼[z[mu4]*z[mu5]] - (𝔼[z[mu1]*z[mu2]]*𝔼[z[mu4]*z[mu5]] + 𝔼[z[mu1]*z[mu4]]*𝔼[z[mu2]*z[mu5]] + 𝔼[z[mu1]*z[mu5]]*𝔼[z[mu2]*z[mu4]])*𝔼[z[mu3]*z[mu6]] - (𝔼[z[mu1]*z[mu2]]*𝔼[z[mu4]*z[mu6]] + 𝔼[z[mu1]*z[mu4]]*𝔼[z[mu2]*z[mu6]] + 𝔼[z[mu1]*z[mu6]]*𝔼[z[mu2]*z[mu4]])*𝔼[z[mu3]*z[mu5]] - (𝔼[z[mu1]*z[mu2]]*𝔼[z[mu5]*z[mu6]] + 𝔼[z[mu1]*z[mu5]]*𝔼[z[mu2]*z[mu6]] + 𝔼[z[mu1]*z[mu6]]*𝔼[z[mu2]*z[mu5]])*𝔼[z[mu3]*z[mu4]] - (𝔼[z[mu1]*z[mu3]]*𝔼[z[mu4]*z[mu5]] + 𝔼[z[mu1]*z[mu4]]*𝔼[z[mu3]*z[mu5]] + 𝔼[z[mu1]*z[mu5]]*𝔼[z[mu3]*z[mu4]])*𝔼[z[mu2]*z[mu6]] - (𝔼[z[mu1]*z[mu3]]*𝔼[z[mu4]*z[mu6]] + 𝔼[z[mu1]*z[mu4]]*𝔼[z[mu3]*z[mu6]] + 𝔼[z[mu1]*z[mu6]]*𝔼[z[mu3]*z[mu4]])*𝔼[z[mu2]*z[mu5]] - (𝔼[z[mu1]*z[mu3]]*𝔼[z[mu5]*z[mu6]] + 𝔼[z[mu1]*z[mu5]]*𝔼[z[mu3]*z[mu6]] + 𝔼[z[mu1]*z[mu6]]*𝔼[z[mu3]*z[mu5]])*𝔼[z[mu2]*z[mu4]] - (𝔼[z[mu1]*z[mu4]]*𝔼[z[mu5]*z[mu6]] + 𝔼[z[mu1]*z[mu5]]*𝔼[z[mu4]*z[mu6]] + 𝔼[z[mu1]*z[mu6]]*𝔼[z[mu4]*z[mu5]])*𝔼[z[mu2]*z[mu3]] - (𝔼[z[mu2]*z[mu3]]*𝔼[z[mu4]*z[mu5]] + 𝔼[z[mu2]*z[mu4]]*𝔼[z[mu3]*z[mu5]] + 𝔼[z[mu2]*z[mu5]]*𝔼[z[mu3]*z[mu4]])*𝔼[z[mu1]*z[mu6]] - (𝔼[z[mu2]*z[mu3]]*𝔼[z[mu4]*z[mu6]] + 𝔼[z[mu2]*z[mu4]]*𝔼[z[mu3]*z[mu6]] + 𝔼[z[mu2]*z[mu6]]*𝔼[z[mu3]*z[mu4]])*𝔼[z[mu1]*z[mu5]] - (𝔼[z[mu2]*z[mu3]]*𝔼[z[mu5]*z[mu6]] + 𝔼[z[mu2]*z[mu5]]*𝔼[z[mu3]*z[mu6]] + 𝔼[z[mu2]*z[mu6]]*𝔼[z[mu3]*z[mu5]])*𝔼[z[mu1]*z[mu4]] - (𝔼[z[mu2]*z[mu4]]*𝔼[z[mu5]*z[mu6]] + 𝔼[z[mu2]*z[mu5]]*𝔼[z[mu4]*z[mu6]] + 𝔼[z[mu2]*z[mu6]]*𝔼[z[mu4]*z[mu5]])*𝔼[z[mu1]*z[mu3]] - (𝔼[z[mu3]*z[mu4]]*𝔼[z[mu5]*z[mu6]] + 𝔼[z[mu3]*z[mu5]]*𝔼[z[mu4]*z[mu6]] + 𝔼[z[mu3]*z[mu6]]*𝔼[z[mu4]*z[mu5]])*𝔼[z[mu1]*z[mu2]] + 3*𝔼[z[mu1]*z[mu2]]*𝔼[z[mu3]*z[mu4]]*𝔼[z[mu5]*z[mu6]] + 3*𝔼[z[mu1]*z[mu2]]*𝔼[z[mu3]*z[mu5]]*𝔼[z[mu4]*z[mu6]] + 3*𝔼[z[mu1]*z[mu2]]*𝔼[z[mu3]*z[mu6]]*𝔼[z[mu4]*z[mu5]] + 3*𝔼[z[mu1]*z[mu3]]*𝔼[z[mu2]*z[mu4]]*𝔼[z[mu5]*z[mu6]] + 3*𝔼[z[mu1]*z[mu3]]*𝔼[z[mu2]*z[mu5]]*𝔼[z[mu4]*z[mu6]] + 3*𝔼[z[mu1]*z[mu3]]*𝔼[z[mu2]*z[mu6]]*𝔼[z[mu4]*z[mu5]] + 3*𝔼[z[mu1]*z[mu4]]*𝔼[z[mu2]*z[mu3]]*𝔼[z[mu5]*z[mu6]] + 3*𝔼[z[mu1]*z[mu4]]*𝔼[z[mu2]*z[mu5]]*𝔼[z[mu3]*z[mu6]] + 3*𝔼[z[mu1]*z[mu4]]*𝔼[z[mu2]*z[mu6]]*𝔼[z[mu3]*z[mu5]] + 3*𝔼[z[mu1]*z[mu5]]*𝔼[z[mu2]*z[mu3]]*𝔼[z[mu4]*z[mu6]] + 3*𝔼[z[mu1]*z[mu5]]*𝔼[z[mu2]*z[mu4]]*𝔼[z[mu3]*z[mu6]] + 3*𝔼[z[mu1]*z[mu5]]*𝔼[z[mu2]*z[mu6]]*𝔼[z[mu3]*z[mu4]] + 3*𝔼[z[mu1]*z[mu6]]*𝔼[z[mu2]*z[mu3]]*𝔼[z[mu4]*z[mu5]] + 3*𝔼[z[mu1]*z[mu6]]*𝔼[z[mu2]*z[mu4]]*𝔼[z[mu3]*z[mu5]] + 3*𝔼[z[mu1]*z[mu6]]*𝔼[z[mu2]*z[mu5]]*𝔼[z[mu3]*z[mu4]]\n"
     ]
    }
   ],
   "source": [
    "conn4 = wick_contraction(conn4)\n",
    "conn6 = wick_contraction(conn6)\n",
    "print(f'4-point connected correlator value: {conn4}')\n",
    "print(f'6-point connected correlator value: {conn6}')"
   ]
  }
 ],
 "metadata": {
  "kernelspec": {
   "display_name": "qml",
   "language": "python",
   "name": "python3"
  },
  "language_info": {
   "codemirror_mode": {
    "name": "ipython",
    "version": 3
   },
   "file_extension": ".py",
   "mimetype": "text/x-python",
   "name": "python",
   "nbconvert_exporter": "python",
   "pygments_lexer": "ipython3",
   "version": "3.12.10"
  }
 },
 "nbformat": 4,
 "nbformat_minor": 5
}
