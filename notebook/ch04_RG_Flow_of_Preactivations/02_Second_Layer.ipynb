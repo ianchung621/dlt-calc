{
 "cells": [
  {
   "cell_type": "markdown",
   "id": "e4a059d5",
   "metadata": {},
   "source": [
    "# Second Layer: Genesis of Non-Gaussianity"
   ]
  },
  {
   "cell_type": "code",
   "execution_count": 1,
   "id": "1e7d8f42",
   "metadata": {},
   "outputs": [],
   "source": [
    "import sympy as sp\n",
    "\n",
    "from symdl.utils import pull_sums_out_front, sum_kronecker_contract, wilds, wild_subs\n",
    "from symdl.random import ExpVal, RandomIndexedBase\n",
    "from symdl.gaussian import GaussianIndexedBase, wick_contraction\n",
    "from symdl.nn import ZLayer"
   ]
  },
  {
   "cell_type": "code",
   "execution_count": 2,
   "id": "5c9cbd3e",
   "metadata": {},
   "outputs": [],
   "source": [
    "i = sp.symbols('i1:5', integer=True) # neouron index\n",
    "alpha = sp.symbols('alpha1:5', integer=True) # sample index\n",
    "\n",
    "# Input\n",
    "sigma1 = RandomIndexedBase('sigma^(1)')\n",
    "n1 = sp.symbols('n1', integer=True)\n",
    "\n",
    "# Layer param\n",
    "b = GaussianIndexedBase('b^(2)')\n",
    "W = GaussianIndexedBase('W^(2)')\n",
    "C_b, C_w = sp.symbols('C_b^(2) C_W^(2)', positive=True)"
   ]
  },
  {
   "cell_type": "code",
   "execution_count": 3,
   "id": "b9113c55",
   "metadata": {},
   "outputs": [
    {
     "data": {
      "text/latex": [
       "$\\displaystyle \\sum_{k_{1}=1}^{n_{1}} {W^{(2)}}_{i_{1},k_{1}} {\\sigma^{(1)}}_{k_{1},\\alpha_{1}} + {b^{(2)}}_{i_{1}}$"
      ],
      "text/plain": [
       "Sum(W^(2)[i1, k_1]*sigma^(1)[k_1, alpha1], (k_1, 1, n1)) + b^(2)[i1]"
      ]
     },
     "execution_count": 3,
     "metadata": {},
     "output_type": "execute_result"
    }
   ],
   "source": [
    "z2 = ZLayer(W, b, sigma1, n1)\n",
    "z2[i[0], alpha[0]]"
   ]
  },
  {
   "cell_type": "markdown",
   "id": "93423499",
   "metadata": {},
   "source": [
    "The joint distribution of preactivations in the ﬁrst and second layers is:\n",
    "\n",
    "$$p\\left(z^{(2)}, z^{(1)} \\mid \\mathcal{D} \\right) = p\\left(z^{(2)} \\mid z^{(1)} \\right) p\\left(z^{(1)} \\mid \\mathcal{D} \\right)\n",
    "$$\n",
    "\n",
    "The marginal distribution of the second-layer preactivations can then be obtained by **marginalizing over** or **integrating out** the ﬁrst-layer\n",
    "preactivations:\n",
    "\n",
    "$$p\\left(z^{(2)} \\mid \\mathcal{D} \\right) = \\int \\left[ \\prod_{i, \\alpha} dz^{(1)}_{i;\\alpha} \\right] p\\left(z^{(2)} \\mid z^{(1)} \\right) p\\left(z^{(1)} \\mid \\mathcal{D} \\right)\n",
    "$$\n",
    "\n",
    "- The ﬁrst-layer marginal distribution is:\n",
    "\n",
    "$$p\\left(z^{(1)} \\mid \\mathcal{D} \\right) = \\frac{1}{\\left| 2\\pi G^{(1)} \\right|^{n_1 / 2}} \\exp\\left( -\\frac{1}{2} \\sum_{i=1}^{n_1} \\sum_{\\alpha_1, \\alpha_2 \\in \\mathcal{D}} G^{\\alpha_1 \\alpha_2}_{(1)} z^{(1)}_{i; \\alpha_1} z^{(1)}_{i; \\alpha_2} \\right)\n",
    "$$\n",
    "\n",
    "- The conditional distribution is:\n",
    "\n",
    "$$p\\left(z^{(2)} \\mid z^{(1)} \\right) = \\frac{1}{\\left| 2\\pi \\widehat{G}^{(2)} \\right|^{n_2/2}} \\exp\\left( -\\frac{1}{2} \\sum_{i=1}^{n_2} \\sum_{\\alpha_1, \\alpha_2 \\in \\mathcal{D}} \\widehat{G}^{\\alpha_1 \\alpha_2}_{(2)} z^{(2)}_{i; \\alpha_1} z^{(2)}_{i; \\alpha_2} \\right)$$\n",
    "\n",
    "where $\\widehat{G}^{(2)}_{\\alpha_1 \\alpha_2} \\equiv C^{(2)}_b + C^{(2)}_W \\frac{1}{n_1} \\sum_{j=1}^{n_1} \\sigma^{(1)}_{j; \\alpha_1} \\sigma^{(1)}_{j; \\alpha_2}$ is *stochastic* second-layer metric\n",
    "\n"
   ]
  },
  {
   "cell_type": "code",
   "execution_count": 4,
   "id": "288c2839",
   "metadata": {},
   "outputs": [
    {
     "data": {
      "text/latex": [
       "$\\displaystyle \\mathbb{E}\\left[{b^{(2)}}_{i_{1}} {b^{(2)}}_{i_{2}}\\right] + \\sum_{k_{2}=1}^{n_{1}} \\mathbb{E}\\left[{W^{(2)}}_{i_{1},k_{2}} {b^{(2)}}_{i_{2}} {\\sigma^{(1)}}_{k_{2},\\alpha_{1}}\\right] + \\sum_{k_{3}=1}^{n_{1}} \\mathbb{E}\\left[{W^{(2)}}_{i_{2},k_{3}} {b^{(2)}}_{i_{1}} {\\sigma^{(1)}}_{k_{3},\\alpha_{2}}\\right] + \\sum_{\\substack{1 \\leq k_{2} \\leq n_{1}\\\\1 \\leq k_{3} \\leq n_{1}}} \\mathbb{E}\\left[{W^{(2)}}_{i_{1},k_{2}} {W^{(2)}}_{i_{2},k_{3}} {\\sigma^{(1)}}_{k_{2},\\alpha_{1}} {\\sigma^{(1)}}_{k_{3},\\alpha_{2}}\\right]$"
      ],
      "text/plain": [
       "𝔼[b^(2)[i1]*b^(2)[i2]] + Sum(𝔼[W^(2)[i1, k_2]*b^(2)[i2]*sigma^(1)[k_2, alpha1]], (k_2, 1, n1)) + Sum(𝔼[W^(2)[i2, k_3]*b^(2)[i1]*sigma^(1)[k_3, alpha2]], (k_3, 1, n1)) + Sum(𝔼[W^(2)[i1, k_2]*W^(2)[i2, k_3]*sigma^(1)[k_2, alpha1]*sigma^(1)[k_3, alpha2]], (k_2, 1, n1), (k_3, 1, n1))"
      ]
     },
     "execution_count": 4,
     "metadata": {},
     "output_type": "execute_result"
    }
   ],
   "source": [
    "zz: sp.Expr = sp.expand(z2[i[0], alpha[0]] * z2[i[1], alpha[1]])\n",
    "zz = pull_sums_out_front(zz)\n",
    "Ezz: sp.Expr = ExpVal(zz)\n",
    "Ezz"
   ]
  }
 ],
 "metadata": {
  "kernelspec": {
   "display_name": "qml",
   "language": "python",
   "name": "python3"
  },
  "language_info": {
   "codemirror_mode": {
    "name": "ipython",
    "version": 3
   },
   "file_extension": ".py",
   "mimetype": "text/x-python",
   "name": "python",
   "nbconvert_exporter": "python",
   "pygments_lexer": "ipython3",
   "version": "3.12.10"
  }
 },
 "nbformat": 4,
 "nbformat_minor": 5
}
