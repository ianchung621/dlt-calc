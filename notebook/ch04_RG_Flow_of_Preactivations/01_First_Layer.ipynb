{
 "cells": [
  {
   "cell_type": "markdown",
   "id": "e572284b",
   "metadata": {},
   "source": [
    "# First Layer: Good-Old Gaussian"
   ]
  },
  {
   "cell_type": "code",
   "execution_count": 1,
   "id": "29db0517",
   "metadata": {},
   "outputs": [],
   "source": [
    "import sympy as sp\n",
    "\n",
    "from symdl.utils import pull_sums_out_front, sum_kronecker_contract, wilds, wild_subs\n",
    "from symdl.random import ExpVal, RandomIndexedBase, connected_correlator\n",
    "from symdl.gaussian import GaussianIndexedBase, wick_contraction, GaussianExpVal\n",
    "from symdl.nn import Layer, NNIndexedBase, sample_indices, neuron_indices"
   ]
  },
  {
   "cell_type": "code",
   "execution_count": 2,
   "id": "15d5a92a",
   "metadata": {},
   "outputs": [],
   "source": [
    "i = neuron_indices('i1:5') # neouron index\n",
    "alpha = sample_indices('alpha1:5') # sample index\n",
    "\n",
    "# Input\n",
    "x = sp.IndexedBase('x')\n",
    "n0 = sp.symbols('n0', integer=True)\n",
    "\n",
    "# Layer param\n",
    "b = NNIndexedBase('b^(1)', is_gaussian = True)\n",
    "W = NNIndexedBase('W^(1)', is_gaussian = True)\n",
    "C_b, C_w = sp.symbols('C_b^(1) C_W^(1)', positive=True)"
   ]
  },
  {
   "cell_type": "markdown",
   "id": "cd568da1",
   "metadata": {},
   "source": [
    "## Two point correlator"
   ]
  },
  {
   "cell_type": "code",
   "execution_count": 3,
   "id": "77cd36fc",
   "metadata": {},
   "outputs": [
    {
     "data": {
      "text/latex": [
       "$\\displaystyle b^{(1)}_{i_{1}} + \\sum_{k_{1}=1}^{n_{0}} {x}_{k_{1},\\alpha_{1}} W^{(1)}_{i_{1}k_{1}}$"
      ],
      "text/plain": [
       "b^(1)[i1] + Sum(x[k_1, alpha1]*W^(1)[i1, k_1], (k_1, 1, n0))"
      ]
     },
     "execution_count": 3,
     "metadata": {},
     "output_type": "execute_result"
    }
   ],
   "source": [
    "layer_1 = Layer(W, b, x, n0)\n",
    "z1 = layer_1.preactivation\n",
    "\n",
    "z1[i[0], alpha[0]]"
   ]
  },
  {
   "cell_type": "code",
   "execution_count": 4,
   "id": "b09be774",
   "metadata": {},
   "outputs": [
    {
     "data": {
      "text/latex": [
       "$\\displaystyle b^{(1)}_{i_{1}} b^{(1)}_{i_{2}} + \\sum_{k_{2}=1}^{n_{0}} {x}_{k_{2},\\alpha_{1}} W^{(1)}_{i_{1}k_{2}} b^{(1)}_{i_{2}} + \\sum_{k_{3}=1}^{n_{0}} {x}_{k_{3},\\alpha_{2}} W^{(1)}_{i_{2}k_{3}} b^{(1)}_{i_{1}} + \\sum_{\\substack{1 \\leq k_{2} \\leq n_{0}\\\\1 \\leq k_{3} \\leq n_{0}}} {x}_{k_{2},\\alpha_{1}} {x}_{k_{3},\\alpha_{2}} W^{(1)}_{i_{1}k_{2}} W^{(1)}_{i_{2}k_{3}}$"
      ],
      "text/plain": [
       "b^(1)[i1]*b^(1)[i2] + Sum(x[k_2, alpha1]*W^(1)[i1, k_2]*b^(1)[i2], (k_2, 1, n0)) + Sum(x[k_3, alpha2]*W^(1)[i2, k_3]*b^(1)[i1], (k_3, 1, n0)) + Sum(x[k_2, alpha1]*x[k_3, alpha2]*W^(1)[i1, k_2]*W^(1)[i2, k_3], (k_2, 1, n0), (k_3, 1, n0))"
      ]
     },
     "execution_count": 4,
     "metadata": {},
     "output_type": "execute_result"
    }
   ],
   "source": [
    "zz: sp.Expr = sp.expand(z1[i[0], alpha[0]] * z1[i[1], alpha[1]])\n",
    "zz = pull_sums_out_front(zz)\n",
    "zz"
   ]
  },
  {
   "cell_type": "code",
   "execution_count": 5,
   "id": "3f2c5425",
   "metadata": {},
   "outputs": [
    {
     "data": {
      "text/latex": [
       "$\\displaystyle \\mathbb{E}\\left[b^{(1)}_{i_{1}} b^{(1)}_{i_{2}}\\right] + \\sum_{k_{2}=1}^{n_{0}} \\mathbb{E}\\left[W^{(1)}_{i_{1}k_{2}} b^{(1)}_{i_{2}}\\right] {x}_{k_{2},\\alpha_{1}} + \\sum_{k_{3}=1}^{n_{0}} \\mathbb{E}\\left[W^{(1)}_{i_{2}k_{3}} b^{(1)}_{i_{1}}\\right] {x}_{k_{3},\\alpha_{2}} + \\sum_{\\substack{1 \\leq k_{2} \\leq n_{0}\\\\1 \\leq k_{3} \\leq n_{0}}} \\mathbb{E}\\left[W^{(1)}_{i_{1}k_{2}} W^{(1)}_{i_{2}k_{3}}\\right] {x}_{k_{2},\\alpha_{1}} {x}_{k_{3},\\alpha_{2}}$"
      ],
      "text/plain": [
       "𝔼[b^(1)[i1]*b^(1)[i2]] + Sum(𝔼[W^(1)[i1, k_2]*b^(1)[i2]]*x[k_2, alpha1], (k_2, 1, n0)) + Sum(𝔼[W^(1)[i2, k_3]*b^(1)[i1]]*x[k_3, alpha2], (k_3, 1, n0)) + Sum(𝔼[W^(1)[i1, k_2]*W^(1)[i2, k_3]]*x[k_2, alpha1]*x[k_3, alpha2], (k_2, 1, n0), (k_3, 1, n0))"
      ]
     },
     "execution_count": 5,
     "metadata": {},
     "output_type": "execute_result"
    }
   ],
   "source": [
    "Ezz: sp.Expr = ExpVal(zz)\n",
    "Ezz"
   ]
  },
  {
   "cell_type": "code",
   "execution_count": 6,
   "id": "6b70a848",
   "metadata": {},
   "outputs": [
    {
     "data": {
      "text/latex": [
       "$\\displaystyle C^{(1)}_{b} \\delta_{i_{1} i_{2}} + \\sum_{k_{2}=1}^{n_{0}} 0 + \\sum_{k_{3}=1}^{n_{0}} 0 + \\sum_{\\substack{1 \\leq k_{2} \\leq n_{0}\\\\1 \\leq k_{3} \\leq n_{0}}} \\frac{C^{(1)}_{W} \\delta_{i_{1} i_{2}} \\delta_{k_{2} k_{3}} {x}_{k_{2},\\alpha_{1}} {x}_{k_{3},\\alpha_{2}}}{n_{0}}$"
      ],
      "text/plain": [
       "C_b^(1)*KroneckerDelta(i1, i2) + Sum(0, (k_2, 1, n0)) + Sum(0, (k_3, 1, n0)) + Sum(C_W^(1)*KroneckerDelta(i1, i2)*KroneckerDelta(k_2, k_3)*x[k_2, alpha1]*x[k_3, alpha2]/n0, (k_2, 1, n0), (k_3, 1, n0))"
      ]
     },
     "execution_count": 6,
     "metadata": {},
     "output_type": "execute_result"
    }
   ],
   "source": [
    "A, B, C, D = wilds('A, B, C, D')\n",
    "\n",
    "gaussian_init_rules = {\n",
    "    ExpVal(W[A, B] * b[C]): 0,\n",
    "    ExpVal(b[A] * b[B]): C_b * sp.KroneckerDelta(A, B),\n",
    "    ExpVal(W[A, B] * W[C, D]): C_w * sp.KroneckerDelta(A, C) * sp.KroneckerDelta(B, D)/n0\n",
    "}\n",
    "\n",
    "Ezz = wild_subs(Ezz, gaussian_init_rules)\n",
    "Ezz"
   ]
  },
  {
   "cell_type": "code",
   "execution_count": 7,
   "id": "1ac17438",
   "metadata": {},
   "outputs": [
    {
     "data": {
      "text/latex": [
       "$\\displaystyle C^{(1)}_{b} \\delta_{i_{1} i_{2}} + \\sum_{k_{2}=1}^{n_{0}} \\frac{C^{(1)}_{W} \\delta_{i_{1} i_{2}} {x}_{k_{2},\\alpha_{1}} {x}_{k_{2},\\alpha_{2}}}{n_{0}}$"
      ],
      "text/plain": [
       "C_b^(1)*KroneckerDelta(i1, i2) + Sum(C_W^(1)*KroneckerDelta(i1, i2)*x[k_2, alpha1]*x[k_2, alpha2]/n0, (k_2, 1, n0))"
      ]
     },
     "execution_count": 7,
     "metadata": {},
     "output_type": "execute_result"
    }
   ],
   "source": [
    "Ezz = sum_kronecker_contract(Ezz).doit()\n",
    "Ezz"
   ]
  },
  {
   "cell_type": "markdown",
   "id": "ef9732ff",
   "metadata": {},
   "source": [
    "## First-layer metric"
   ]
  },
  {
   "cell_type": "markdown",
   "id": "e02d6e2e",
   "metadata": {},
   "source": [
    "we define `Ezz`: $\\mathbb{E}(z_{i, \\alpha1} z_{j, \\alpha2}) = \\delta_{ij} \\left[ C_b^{(1)} + \\frac{C_W^{(1)}}{n_0} \\sum^{n_0}_{k=1} x_{k, \\alpha_1} x_{k, \\alpha_2}\\right] \\equiv \\delta_{ij} G^{(1)}_{\\alpha_1 \\alpha_2}$\n",
    "\n",
    "where $G^{(1)}$ is called **First Layer Metric**"
   ]
  },
  {
   "cell_type": "code",
   "execution_count": 8,
   "id": "e75c3173",
   "metadata": {},
   "outputs": [
    {
     "data": {
      "text/latex": [
       "$\\displaystyle \\frac{C^{(1)}_{W} \\sum_{k_{4}=1}^{n_{0}} {x}_{k_{4},\\alpha_{1}} {x}_{k_{4},\\alpha_{2}}}{n_{0}} + C^{(1)}_{b}$"
      ],
      "text/plain": [
       "C_W^(1)*Sum(x[k_4, alpha1]*x[k_4, alpha2], (k_4, 1, n0))/n0 + C_b^(1)"
      ]
     },
     "execution_count": 8,
     "metadata": {},
     "output_type": "execute_result"
    }
   ],
   "source": [
    "layer_1.gaussian_init(C_w, C_b)\n",
    "G1 = layer_1.layer_metric\n",
    "G1[alpha[0], alpha[1]]"
   ]
  },
  {
   "cell_type": "markdown",
   "id": "660c9531",
   "metadata": {},
   "source": [
    "# Four point correlator"
   ]
  },
  {
   "cell_type": "code",
   "execution_count": 9,
   "id": "49b988fe",
   "metadata": {},
   "outputs": [
    {
     "data": {
      "text/latex": [
       "$\\displaystyle z^{(1)}_{i_{1};\\alpha_{1}} z^{(1)}_{i_{2};\\alpha_{2}} z^{(1)}_{i_{3};\\alpha_{3}} z^{(1)}_{i_{4};\\alpha_{4}}$"
      ],
      "text/plain": [
       "z^(1)[i1, alpha1]*z^(1)[i2, alpha2]*z^(1)[i3, alpha3]*z^(1)[i4, alpha4]"
      ]
     },
     "execution_count": 9,
     "metadata": {},
     "output_type": "execute_result"
    }
   ],
   "source": [
    "z = NNIndexedBase('z^(1)', is_gaussian=True)\n",
    "G = NNIndexedBase('G^(1)')\n",
    "zzzz = z[i[0], alpha[0]] * z[i[1], alpha[1]] * z[i[2], alpha[2]] * z[i[3], alpha[3]]\n",
    "zzzz"
   ]
  },
  {
   "cell_type": "code",
   "execution_count": 10,
   "id": "6afe0529",
   "metadata": {},
   "outputs": [
    {
     "data": {
      "text/latex": [
       "$\\displaystyle \\mathbb{E}\\left[z^{(1)}_{i_{1};\\alpha_{1}} z^{(1)}_{i_{2};\\alpha_{2}} z^{(1)}_{i_{3};\\alpha_{3}} z^{(1)}_{i_{4};\\alpha_{4}}\\right]$"
      ],
      "text/plain": [
       "𝔼[z^(1)[i1, alpha1]*z^(1)[i2, alpha2]*z^(1)[i3, alpha3]*z^(1)[i4, alpha4]]"
      ]
     },
     "execution_count": 10,
     "metadata": {},
     "output_type": "execute_result"
    }
   ],
   "source": [
    "Ezzzz: sp.Expr = ExpVal(pull_sums_out_front(sp.expand(zzzz)))\n",
    "Ezzzz"
   ]
  },
  {
   "cell_type": "code",
   "execution_count": 11,
   "id": "0049af69",
   "metadata": {},
   "outputs": [
    {
     "data": {
      "text/latex": [
       "$\\displaystyle \\mathbb{E}\\left[z^{(1)}_{i_{1};\\alpha_{1}} z^{(1)}_{i_{2};\\alpha_{2}}\\right] \\mathbb{E}\\left[z^{(1)}_{i_{3};\\alpha_{3}} z^{(1)}_{i_{4};\\alpha_{4}}\\right] + \\mathbb{E}\\left[z^{(1)}_{i_{1};\\alpha_{1}} z^{(1)}_{i_{3};\\alpha_{3}}\\right] \\mathbb{E}\\left[z^{(1)}_{i_{2};\\alpha_{2}} z^{(1)}_{i_{4};\\alpha_{4}}\\right] + \\mathbb{E}\\left[z^{(1)}_{i_{1};\\alpha_{1}} z^{(1)}_{i_{4};\\alpha_{4}}\\right] \\mathbb{E}\\left[z^{(1)}_{i_{2};\\alpha_{2}} z^{(1)}_{i_{3};\\alpha_{3}}\\right]$"
      ],
      "text/plain": [
       "𝔼[z^(1)[i1, alpha1]*z^(1)[i2, alpha2]]*𝔼[z^(1)[i3, alpha3]*z^(1)[i4, alpha4]] + 𝔼[z^(1)[i1, alpha1]*z^(1)[i3, alpha3]]*𝔼[z^(1)[i2, alpha2]*z^(1)[i4, alpha4]] + 𝔼[z^(1)[i1, alpha1]*z^(1)[i4, alpha4]]*𝔼[z^(1)[i2, alpha2]*z^(1)[i3, alpha3]]"
      ]
     },
     "execution_count": 11,
     "metadata": {},
     "output_type": "execute_result"
    }
   ],
   "source": [
    "Ezzzz = wick_contraction(Ezzzz)\n",
    "Ezzzz"
   ]
  },
  {
   "cell_type": "code",
   "execution_count": 12,
   "id": "4538c693",
   "metadata": {},
   "outputs": [
    {
     "data": {
      "text/latex": [
       "$\\displaystyle \\delta_{i_{1} i_{2}} \\delta_{i_{3} i_{4}} G^{(1)}_{\\alpha_{1}\\alpha_{2}} G^{(1)}_{\\alpha_{3}\\alpha_{4}} + \\delta_{i_{1} i_{3}} \\delta_{i_{2} i_{4}} G^{(1)}_{\\alpha_{1}\\alpha_{3}} G^{(1)}_{\\alpha_{2}\\alpha_{4}} + \\delta_{i_{1} i_{4}} \\delta_{i_{2} i_{3}} G^{(1)}_{\\alpha_{1}\\alpha_{4}} G^{(1)}_{\\alpha_{2}\\alpha_{3}}$"
      ],
      "text/plain": [
       "KroneckerDelta(i1, i2)*KroneckerDelta(i3, i4)*G^(1)[alpha1, alpha2]*G^(1)[alpha3, alpha4] + KroneckerDelta(i1, i3)*KroneckerDelta(i2, i4)*G^(1)[alpha1, alpha3]*G^(1)[alpha2, alpha4] + KroneckerDelta(i1, i4)*KroneckerDelta(i2, i3)*G^(1)[alpha1, alpha4]*G^(1)[alpha2, alpha3]"
      ]
     },
     "execution_count": 12,
     "metadata": {},
     "output_type": "execute_result"
    }
   ],
   "source": [
    "Ezzzz.replace(ExpVal(z[A, B] * z[C, D]), sp.KroneckerDelta(A, C) * G[B, D])"
   ]
  },
  {
   "cell_type": "code",
   "execution_count": 13,
   "id": "729e347b",
   "metadata": {},
   "outputs": [
    {
     "data": {
      "text/latex": [
       "$\\displaystyle 0$"
      ],
      "text/plain": [
       "0"
      ]
     },
     "execution_count": 13,
     "metadata": {},
     "output_type": "execute_result"
    }
   ],
   "source": [
    "conn4 = connected_correlator(z, tuple(zip(i, alpha)))\n",
    "conn4 = wick_contraction(conn4)\n",
    "conn4"
   ]
  },
  {
   "cell_type": "markdown",
   "id": "a4a4ec53",
   "metadata": {},
   "source": [
    "The 4-point connected correlator is zero since $z^{(1)}$ follors gaussian distribution\n",
    "\n",
    "## Gaussian action in action\n",
    "\n",
    "The expectation value of activations at 1st layer can be calculate as **Gaussian Expectations**:\n",
    "\n",
    "$$\\mathbb{E} \\left[ \\sigma\\left(z^{(1)}_{i_1; \\alpha_1} \\right) \\sigma\\left(z^{(1)}_{i_1; \\alpha_2} \\right) \\right] = \\left\\langle \\sigma_{\\alpha_1} \\sigma_{\\alpha_2} \\right\\rangle_{G^{(1)}}\n",
    "$$\n",
    "\n",
    "$$\\mathbb{E} \\left[ \\sigma\\left(z^{(1)}_{i_1; \\alpha_1} \\right) \\sigma\\left(z^{(1)}_{i_1; \\alpha_2} \\right) \\sigma\\left(z^{(1)}_{i_1; \\alpha_3} \\right) \\sigma\\left(z^{(1)}_{i_1; \\alpha_4} \\right) \\right] \n",
    "= \\left\\langle \\sigma_{\\alpha_1} \\sigma_{\\alpha_2} \\sigma_{\\alpha_3} \\sigma_{\\alpha_4} \\right\\rangle_{G^{(1)}}\n",
    "$$\n",
    "\n",
    "By symmetry, the neuron index are omitted.\n",
    "Since neurons are independent, each neuron factorizes and gives separate Gaussian integrals:\n",
    "\n",
    "$$\\mathbb{E} \\left[ \\sigma\\left(z^{(1)}_{i_1; \\alpha_1} \\right) \\sigma\\left(z^{(1)}_{i_1; \\alpha_2} \\right) \\sigma\\left(z^{(1)}_{i_2; \\alpha_3} \\right) \\sigma\\left(z^{(1)}_{i_2; \\alpha_4} \\right) \\right]\n",
    "= \\left\\langle \\sigma_{\\alpha_1} \\sigma_{\\alpha_2} \\right\\rangle_{G^{(1)}} \\left\\langle \\sigma_{\\alpha_3} \\sigma_{\\alpha_4} \\right\\rangle_{G^{(1)}}\n",
    "$$"
   ]
  }
 ],
 "metadata": {
  "kernelspec": {
   "display_name": "qml",
   "language": "python",
   "name": "python3"
  },
  "language_info": {
   "codemirror_mode": {
    "name": "ipython",
    "version": 3
   },
   "file_extension": ".py",
   "mimetype": "text/x-python",
   "name": "python",
   "nbconvert_exporter": "python",
   "pygments_lexer": "ipython3",
   "version": "3.12.10"
  }
 },
 "nbformat": 4,
 "nbformat_minor": 5
}
