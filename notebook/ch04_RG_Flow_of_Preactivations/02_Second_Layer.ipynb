{
 "cells": [
  {
   "cell_type": "markdown",
   "id": "e4a059d5",
   "metadata": {},
   "source": [
    "# Second Layer: Genesis of Non-Gaussianity"
   ]
  },
  {
   "cell_type": "code",
   "execution_count": 3,
   "id": "1e7d8f42",
   "metadata": {},
   "outputs": [],
   "source": [
    "import sympy as sp\n",
    "\n",
    "from symlib.utils import pull_sums_out_front, sum_kronecker_contract, wilds, wild_subs\n",
    "from symlib.random import ExpVal, RandomIndexedBase\n",
    "from symlib.gaussian import GaussianIndexedBase, wick_contraction\n",
    "from symlib.MLP import ZLayer"
   ]
  },
  {
   "cell_type": "code",
   "execution_count": 6,
   "id": "5c9cbd3e",
   "metadata": {},
   "outputs": [],
   "source": [
    "i1, i2, i3, i4 = sp.symbols('i1 i2 i3 i4', integer=True)\n",
    "alpha1, alpha2, alpha3, alpha4 = sp.symbols('alpha1, alpha2, alpha3, alpha4', integer=True)\n",
    "\n",
    "# Input\n",
    "sigma1 = RandomIndexedBase('sigma^(1)')\n",
    "n1 = sp.symbols('n1', integer=True)\n",
    "\n",
    "# Layer param\n",
    "b = GaussianIndexedBase('b^(2)')\n",
    "W = GaussianIndexedBase('W^(2)')\n",
    "C_b, C_w = sp.symbols('C_b^(2) C_W^(2)', positive=True)"
   ]
  },
  {
   "cell_type": "code",
   "execution_count": 7,
   "id": "b9113c55",
   "metadata": {},
   "outputs": [],
   "source": [
    "z2 = ZLayer(W, b, sigma1, n1)"
   ]
  }
 ],
 "metadata": {
  "kernelspec": {
   "display_name": "qml",
   "language": "python",
   "name": "python3"
  },
  "language_info": {
   "codemirror_mode": {
    "name": "ipython",
    "version": 3
   },
   "file_extension": ".py",
   "mimetype": "text/x-python",
   "name": "python",
   "nbconvert_exporter": "python",
   "pygments_lexer": "ipython3",
   "version": "3.12.10"
  }
 },
 "nbformat": 4,
 "nbformat_minor": 5
}
