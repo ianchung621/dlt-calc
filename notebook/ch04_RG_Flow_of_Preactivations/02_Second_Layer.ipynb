{
 "cells": [
  {
   "cell_type": "markdown",
   "id": "e4a059d5",
   "metadata": {},
   "source": [
    "# Second Layer: Genesis of Non-Gaussianity"
   ]
  },
  {
   "cell_type": "code",
   "execution_count": 6,
   "id": "1e7d8f42",
   "metadata": {},
   "outputs": [],
   "source": [
    "import sympy as sp\n",
    "import symdl as sml"
   ]
  },
  {
   "cell_type": "markdown",
   "id": "020f7af5",
   "metadata": {},
   "source": [
    "In this notebook, we first workout quartic coupling math tools, then derive the layer distribution\n",
    "\n",
    "Let's start with quartic action:\n",
    "\n",
    "$$S[z] = \\frac{1}{2} \\sum_{\\alpha_1, \\alpha_2 \\in \\mathcal{D}} g^{\\alpha_1 \\alpha_2} \\sum_{i=1}^{n} z_{i; \\alpha_1} z_{i; \\alpha_2}\n",
    "- \\frac{1}{8} \\epsilon \\sum_{\\alpha_1, \\ldots, \\alpha_4 \\in \\mathcal{D}} v^{(\\alpha_1 \\alpha_2)(\\alpha_3 \\alpha_4)} \n",
    "\\sum_{i_1, i_2 = 1}^{n} z_{i_1; \\alpha_1} z_{i_1; \\alpha_2} z_{i_2; \\alpha_3} z_{i_2; \\alpha_4}$$\n",
    "\n",
    "Note that the expression of quartic is differ from the book by $\\epsilon$, this is because we need to take limit with respect to $\\epsilon$ by `sympy.series`, and the order will be $O(\\epsilon)$ instead of $O(v)$ in the book\n"
   ]
  },
  {
   "cell_type": "code",
   "execution_count": 7,
   "id": "9f60f79c",
   "metadata": {},
   "outputs": [
    {
     "data": {
      "text/latex": [
       "$\\displaystyle - \\frac{\\epsilon \\sum_{\\substack{1 \\leq \\beta_{1} \\leq N_{D}\\\\1 \\leq \\beta_{2} \\leq N_{D}\\\\1 \\leq \\beta_{3} \\leq N_{D}\\\\1 \\leq \\beta_{4} \\leq N_{D}}} v^{\\beta_{1}\\beta_{2}\\beta_{3}\\beta_{4}} \\sum_{\\substack{1 \\leq j_{1} \\leq n\\\\1 \\leq j_{2} \\leq n}} z_{j_{1};\\beta_{1}} z_{j_{1};\\beta_{2}} z_{j_{2};\\beta_{3}} z_{j_{2};\\beta_{4}}}{8}$"
      ],
      "text/plain": [
       "-epsilon*Sum(v[beta1, beta2, beta3, beta4]*Sum(z[j1, beta1]*z[j1, beta2]*z[j2, beta3]*z[j2, beta4], (j1, 1, n), (j2, 1, n)), (beta1, 1, N_D), (beta2, 1, N_D), (beta3, 1, N_D), (beta4, 1, N_D))/8"
      ]
     },
     "execution_count": 7,
     "metadata": {},
     "output_type": "execute_result"
    }
   ],
   "source": [
    "i = sml.neuron_indices('i1:5')\n",
    "j = sml.neuron_indices('j1:5')\n",
    "alpha = sml.sample_indices('alpha1:5')\n",
    "beta = sml.sample_indices('beta1:5')\n",
    "\n",
    "g_inv = sml.NNIndexedBase('g', symmetries='full', idx_is_superscript = [0,1]) # action\n",
    "g = sml.NNIndexedBase('g', symmetries='full')\n",
    "v = sml.NNIndexedBase('v', symmetries=[(0,1), (2,3),([0,1],[2,3])], idx_is_superscript = True) # action\n",
    "z = sml.NNIndexedBase('z', is_gaussian=True)\n",
    "\n",
    "n = sp.Symbol(\"n\", integer = True) # number of neouron\n",
    "N_D = sp.Symbol(\"N_D\", integer = True) # number of sample\n",
    "eps = sp.Symbol(\"epsilon\")\n",
    "\n",
    "def take_eps_limit(expr: sp.Expr) -> sp.Expr:\n",
    "    taylor: sp.Expr = sp.series(expr, x=eps, x0=0, n=2)\n",
    "    return taylor\n",
    "\n",
    "quartic_term = eps * (\n",
    "    -sp.Rational(1, 8)\n",
    "    * sp.Sum(\n",
    "        v[beta[0], beta[1], beta[2], beta[3]]\n",
    "        * sp.Sum(\n",
    "            z[j[0], beta[0]] * z[j[0], beta[1]] * z[j[1], beta[2]] * z[j[1], beta[3]],\n",
    "            (j[0], 1, n),\n",
    "            (j[1], 1, n),\n",
    "        ),\n",
    "        (beta[0], 1, N_D),\n",
    "        (beta[1], 1, N_D),\n",
    "        (beta[2], 1, N_D),\n",
    "        (beta[3], 1, N_D),\n",
    "    )\n",
    ")\n",
    "quartic_term"
   ]
  },
  {
   "cell_type": "markdown",
   "id": "627be7ef",
   "metadata": {},
   "source": [
    "Now let’s look at the following equation:\n",
    "\n",
    "$$\n",
    "\\mathbb{E}\\left[ F(z_{i_1;\\alpha_1}, \\ldots, z_{i_m;\\alpha_m}) \\right]\n",
    "= \\frac{ \\int \\left[ \\prod_{i,\\alpha} dz_{i;\\alpha} \\right] e^{-S(z)} \n",
    "    F(z_{i_1;\\alpha_1}, \\ldots, z_{i_m;\\alpha_m}) }\n",
    "  { \\int \\left[ \\prod_{i,\\alpha} dz_{i;\\alpha} \\right] e^{-S(z)} }\n",
    "\\\\= \n",
    "\\frac{\n",
    "\\left\\langle\\!\\left\\langle \n",
    "\\exp\\left\\{\n",
    "\\frac{1}{8} \\sum_{\\beta_1, \\ldots, \\beta_4 \\in \\mathcal{D}} \n",
    "v^{(\\beta_1 \\beta_2)(\\beta_3 \\beta_4)} \n",
    "\\sum_{j_1, j_2 = 1}^{n} \n",
    "z_{j_1; \\beta_1} z_{j_1; \\beta_2} z_{j_2; \\beta_3} z_{j_2; \\beta_4}\n",
    "\\right\\} \n",
    "F(z_{i_1; \\alpha_1}, \\ldots, z_{i_m; \\alpha_m})\n",
    "\\right\\rangle\\!\\right\\rangle_g\n",
    "}{\n",
    "\\left\\langle\\!\\left\\langle \n",
    "\\exp\\left\\{\n",
    "\\frac{1}{8} \\sum_{\\beta_1, \\ldots, \\beta_4 \\in \\mathcal{D}} \n",
    "v^{(\\beta_1 \\beta_2)(\\beta_3 \\beta_4)} \n",
    "\\sum_{j_1, j_2 = 1}^{n} \n",
    "z_{j_1; \\beta_1} z_{j_1; \\beta_2} z_{j_2; \\beta_3} z_{j_2; \\beta_4}\n",
    "\\right\\}\n",
    "\\right\\rangle\\!\\right\\rangle_g\n",
    "}\n",
    "\\\\\n",
    "\\textcolor{red}{=}\n",
    "\\left\\langle\\!\\left\\langle \n",
    "F(z_{i_1; \\alpha_1}, \\ldots, z_{i_m; \\alpha_m})\n",
    "\\right\\rangle\\!\\right\\rangle_g\n",
    "\\\\\n",
    "+ \\frac{1}{8} \n",
    "\\sum_{\\beta_1, \\ldots, \\beta_4 \\in \\mathcal{D}} \n",
    "v^{(\\beta_1 \\beta_2)(\\beta_3 \\beta_4)} \n",
    "\\sum_{j_1, j_2 = 1}^{n} \n",
    "\\left[\n",
    "\\left\\langle\\!\\left\\langle \n",
    "z_{j_1; \\beta_1} z_{j_1; \\beta_2} z_{j_2; \\beta_3} z_{j_2; \\beta_4} \n",
    "F(z_{i_1; \\alpha_1}, \\ldots, z_{i_m; \\alpha_m})\n",
    "\\right\\rangle\\!\\right\\rangle_g \n",
    "\\right.\n",
    "\\\\\n",
    "\\left.\n",
    "- \n",
    "\\left\\langle\\!\\left\\langle \n",
    "z_{j_1; \\beta_1} z_{j_1; \\beta_2} z_{j_2; \\beta_3} z_{j_2; \\beta_4} \n",
    "\\right\\rangle\\!\\right\\rangle_g\n",
    "\\left\\langle\\!\\left\\langle \n",
    "F(z_{i_1; \\alpha_1}, \\ldots, z_{i_m; \\alpha_m}) \n",
    "\\right\\rangle\\!\\right\\rangle_g\n",
    "\\right]\n",
    "\\\\\n",
    "+ \\mathcal{O}(v^2)\n",
    "\n",
    "$$\n",
    "\n",
    "We’ll just work out the last equality (the red one) since the earlier steps are pretty straightforward."
   ]
  },
  {
   "cell_type": "code",
   "execution_count": 8,
   "id": "5c0a8d8c",
   "metadata": {},
   "outputs": [
    {
     "data": {
      "text/latex": [
       "$\\displaystyle \\frac{\\left\\langle F e^{\\frac{\\epsilon \\sum_{\\substack{1 \\leq \\beta_{1} \\leq N_{D}\\\\1 \\leq \\beta_{2} \\leq N_{D}\\\\1 \\leq \\beta_{3} \\leq N_{D}\\\\1 \\leq \\beta_{4} \\leq N_{D}}} v^{\\beta_{1}\\beta_{2}\\beta_{3}\\beta_{4}} \\sum_{\\substack{1 \\leq j_{1} \\leq n\\\\1 \\leq j_{2} \\leq n}} z_{j_{1};\\beta_{1}} z_{j_{1};\\beta_{2}} z_{j_{2};\\beta_{3}} z_{j_{2};\\beta_{4}}}{8}}\\right\\rangle_{g}}{\\left\\langle e^{\\frac{\\epsilon \\sum_{\\substack{1 \\leq \\beta_{1} \\leq N_{D}\\\\1 \\leq \\beta_{2} \\leq N_{D}\\\\1 \\leq \\beta_{3} \\leq N_{D}\\\\1 \\leq \\beta_{4} \\leq N_{D}}} v^{\\beta_{1}\\beta_{2}\\beta_{3}\\beta_{4}} \\sum_{\\substack{1 \\leq j_{1} \\leq n\\\\1 \\leq j_{2} \\leq n}} z_{j_{1};\\beta_{1}} z_{j_{1};\\beta_{2}} z_{j_{2};\\beta_{3}} z_{j_{2};\\beta_{4}}}{8}}\\right\\rangle_{g}}$"
      ],
      "text/plain": [
       "⟨F*exp(epsilon*Sum(v[beta1, beta2, beta3, beta4]*Sum(z[j1, beta1]*z[j1, beta2]*z[j2, beta3]*z[j2, beta4], (j1, 1, n), (j2, 1, n)), (beta1, 1, N_D), (beta2, 1, N_D), (beta3, 1, N_D), (beta4, 1, N_D))/8)⟩_g/⟨exp(epsilon*Sum(v[beta1, beta2, beta3, beta4]*Sum(z[j1, beta1]*z[j1, beta2]*z[j2, beta3]*z[j2, beta4], (j1, 1, n), (j2, 1, n)), (beta1, 1, N_D), (beta2, 1, N_D), (beta3, 1, N_D), (beta4, 1, N_D))/8)⟩_g"
      ]
     },
     "execution_count": 8,
     "metadata": {},
     "output_type": "execute_result"
    }
   ],
   "source": [
    "F = sml.RandomSymbol(\"F\")\n",
    "Eg = sml.GaussianExpVal(g)\n",
    "\n",
    "EF = Eg(sp.exp(-quartic_term) * F)/Eg(sp.exp(-quartic_term))\n",
    "EF"
   ]
  },
  {
   "cell_type": "code",
   "execution_count": 9,
   "id": "51c7767a",
   "metadata": {},
   "outputs": [
    {
     "data": {
      "text/latex": [
       "$\\displaystyle \\left\\langle F\\right\\rangle_{g} + \\epsilon \\left(\\sum_{\\substack{1 \\leq j_{1} \\leq n\\\\1 \\leq j_{2} \\leq n\\\\1 \\leq \\beta_{1} \\leq N_{D}\\\\1 \\leq \\beta_{2} \\leq N_{D}\\\\1 \\leq \\beta_{3} \\leq N_{D}\\\\1 \\leq \\beta_{4} \\leq N_{D}}} \\frac{\\left\\langle F z_{j_{1};\\beta_{1}} z_{j_{1};\\beta_{2}} z_{j_{2};\\beta_{3}} z_{j_{2};\\beta_{4}}\\right\\rangle_{g} v^{\\beta_{1}\\beta_{2}\\beta_{3}\\beta_{4}}}{8} + \\sum_{\\substack{1 \\leq j_{1} \\leq n\\\\1 \\leq j_{2} \\leq n\\\\1 \\leq \\beta_{1} \\leq N_{D}\\\\1 \\leq \\beta_{2} \\leq N_{D}\\\\1 \\leq \\beta_{3} \\leq N_{D}\\\\1 \\leq \\beta_{4} \\leq N_{D}}} - \\frac{\\left\\langle F\\right\\rangle_{g} \\left\\langle z_{j_{1};\\beta_{1}} z_{j_{1};\\beta_{2}} z_{j_{2};\\beta_{3}} z_{j_{2};\\beta_{4}}\\right\\rangle_{g} v^{\\beta_{1}\\beta_{2}\\beta_{3}\\beta_{4}}}{8}\\right) + O\\left(\\epsilon^{2}\\right)$"
      ],
      "text/plain": [
       "⟨F⟩_g + epsilon*(Sum(⟨F*z[j1, beta1]*z[j1, beta2]*z[j2, beta3]*z[j2, beta4]⟩_g*v[beta1, beta2, beta3, beta4]/8, (j1, 1, n), (j2, 1, n), (beta1, 1, N_D), (beta2, 1, N_D), (beta3, 1, N_D), (beta4, 1, N_D)) + Sum(-⟨F⟩_g*⟨z[j1, beta1]*z[j1, beta2]*z[j2, beta3]*z[j2, beta4]⟩_g*v[beta1, beta2, beta3, beta4]/8, (j1, 1, n), (j2, 1, n), (beta1, 1, N_D), (beta2, 1, N_D), (beta3, 1, N_D), (beta4, 1, N_D))) + O(epsilon**2)"
      ]
     },
     "execution_count": 9,
     "metadata": {},
     "output_type": "execute_result"
    }
   ],
   "source": [
    "EF = take_eps_limit(EF)\n",
    "EF = sml.pull_sums_out_front(EF)\n",
    "EF # result"
   ]
  },
  {
   "cell_type": "markdown",
   "id": "1eafe5de",
   "metadata": {},
   "source": [
    "The result consist with book. \n",
    "\n",
    "Let's workout two-point correlator and four-point connected correlator\n",
    "\n",
    "$\\mathbb{E}\\left[ z_{i_1; \\alpha_1} \\, z_{i_2; \\alpha_2} \\right]$ is:\n"
   ]
  },
  {
   "cell_type": "code",
   "execution_count": 10,
   "id": "6666cb2b",
   "metadata": {},
   "outputs": [
    {
     "data": {
      "text/latex": [
       "$\\displaystyle \\left\\langle z_{i_{1};\\alpha_{1}} z_{i_{2};\\alpha_{2}}\\right\\rangle_{g} + \\epsilon \\left(\\sum_{\\substack{1 \\leq j_{1} \\leq n\\\\1 \\leq j_{2} \\leq n\\\\1 \\leq \\beta_{1} \\leq N_{D}\\\\1 \\leq \\beta_{2} \\leq N_{D}\\\\1 \\leq \\beta_{3} \\leq N_{D}\\\\1 \\leq \\beta_{4} \\leq N_{D}}} \\frac{\\left\\langle z_{i_{1};\\alpha_{1}} z_{i_{2};\\alpha_{2}} z_{j_{1};\\beta_{1}} z_{j_{1};\\beta_{2}} z_{j_{2};\\beta_{3}} z_{j_{2};\\beta_{4}}\\right\\rangle_{g} v^{\\beta_{1}\\beta_{2}\\beta_{3}\\beta_{4}}}{8} + \\sum_{\\substack{1 \\leq j_{1} \\leq n\\\\1 \\leq j_{2} \\leq n\\\\1 \\leq \\beta_{1} \\leq N_{D}\\\\1 \\leq \\beta_{2} \\leq N_{D}\\\\1 \\leq \\beta_{3} \\leq N_{D}\\\\1 \\leq \\beta_{4} \\leq N_{D}}} - \\frac{\\left\\langle z_{i_{1};\\alpha_{1}} z_{i_{2};\\alpha_{2}}\\right\\rangle_{g} \\left\\langle z_{j_{1};\\beta_{1}} z_{j_{1};\\beta_{2}} z_{j_{2};\\beta_{3}} z_{j_{2};\\beta_{4}}\\right\\rangle_{g} v^{\\beta_{1}\\beta_{2}\\beta_{3}\\beta_{4}}}{8}\\right) + O\\left(\\epsilon^{2}\\right)$"
      ],
      "text/plain": [
       "⟨z[i1, alpha1]*z[i2, alpha2]⟩_g + epsilon*(Sum(⟨z[i1, alpha1]*z[i2, alpha2]*z[j1, beta1]*z[j1, beta2]*z[j2, beta3]*z[j2, beta4]⟩_g*v[beta1, beta2, beta3, beta4]/8, (j1, 1, n), (j2, 1, n), (beta1, 1, N_D), (beta2, 1, N_D), (beta3, 1, N_D), (beta4, 1, N_D)) + Sum(-⟨z[i1, alpha1]*z[i2, alpha2]⟩_g*⟨z[j1, beta1]*z[j1, beta2]*z[j2, beta3]*z[j2, beta4]⟩_g*v[beta1, beta2, beta3, beta4]/8, (j1, 1, n), (j2, 1, n), (beta1, 1, N_D), (beta2, 1, N_D), (beta3, 1, N_D), (beta4, 1, N_D))) + O(epsilon**2)"
      ]
     },
     "execution_count": 10,
     "metadata": {},
     "output_type": "execute_result"
    }
   ],
   "source": [
    "Ezz = EF.subs(F, z[i[0], alpha[0]] * z[i[1], alpha[1]])\n",
    "Ezz"
   ]
  },
  {
   "cell_type": "code",
   "execution_count": 11,
   "id": "5c40a305",
   "metadata": {},
   "outputs": [
    {
     "data": {
      "text/latex": [
       "$\\displaystyle \\left\\langle z_{i_{1};\\alpha_{1}} z_{i_{2};\\alpha_{2}}\\right\\rangle_{g} + \\epsilon \\left(\\sum_{\\substack{1 \\leq j_{1} \\leq n\\\\1 \\leq j_{2} \\leq n\\\\1 \\leq \\beta_{1} \\leq N_{D}\\\\1 \\leq \\beta_{2} \\leq N_{D}\\\\1 \\leq \\beta_{3} \\leq N_{D}\\\\1 \\leq \\beta_{4} \\leq N_{D}}} \\frac{\\left(\\left\\langle z_{i_{1};\\alpha_{1}} z_{i_{2};\\alpha_{2}}\\right\\rangle_{g} \\left\\langle z_{j_{1};\\beta_{1}} z_{j_{1};\\beta_{2}}\\right\\rangle_{g} \\left\\langle z_{j_{2};\\beta_{3}} z_{j_{2};\\beta_{4}}\\right\\rangle_{g} + \\left\\langle z_{i_{1};\\alpha_{1}} z_{i_{2};\\alpha_{2}}\\right\\rangle_{g} \\left\\langle z_{j_{1};\\beta_{1}} z_{j_{2};\\beta_{3}}\\right\\rangle_{g} \\left\\langle z_{j_{1};\\beta_{2}} z_{j_{2};\\beta_{4}}\\right\\rangle_{g} + \\left\\langle z_{i_{1};\\alpha_{1}} z_{i_{2};\\alpha_{2}}\\right\\rangle_{g} \\left\\langle z_{j_{1};\\beta_{1}} z_{j_{2};\\beta_{4}}\\right\\rangle_{g} \\left\\langle z_{j_{1};\\beta_{2}} z_{j_{2};\\beta_{3}}\\right\\rangle_{g} + \\left\\langle z_{i_{1};\\alpha_{1}} z_{j_{1};\\beta_{1}}\\right\\rangle_{g} \\left\\langle z_{i_{2};\\alpha_{2}} z_{j_{1};\\beta_{2}}\\right\\rangle_{g} \\left\\langle z_{j_{2};\\beta_{3}} z_{j_{2};\\beta_{4}}\\right\\rangle_{g} + \\left\\langle z_{i_{1};\\alpha_{1}} z_{j_{1};\\beta_{1}}\\right\\rangle_{g} \\left\\langle z_{i_{2};\\alpha_{2}} z_{j_{2};\\beta_{3}}\\right\\rangle_{g} \\left\\langle z_{j_{1};\\beta_{2}} z_{j_{2};\\beta_{4}}\\right\\rangle_{g} + \\left\\langle z_{i_{1};\\alpha_{1}} z_{j_{1};\\beta_{1}}\\right\\rangle_{g} \\left\\langle z_{i_{2};\\alpha_{2}} z_{j_{2};\\beta_{4}}\\right\\rangle_{g} \\left\\langle z_{j_{1};\\beta_{2}} z_{j_{2};\\beta_{3}}\\right\\rangle_{g} + \\left\\langle z_{i_{1};\\alpha_{1}} z_{j_{1};\\beta_{2}}\\right\\rangle_{g} \\left\\langle z_{i_{2};\\alpha_{2}} z_{j_{1};\\beta_{1}}\\right\\rangle_{g} \\left\\langle z_{j_{2};\\beta_{3}} z_{j_{2};\\beta_{4}}\\right\\rangle_{g} + \\left\\langle z_{i_{1};\\alpha_{1}} z_{j_{1};\\beta_{2}}\\right\\rangle_{g} \\left\\langle z_{i_{2};\\alpha_{2}} z_{j_{2};\\beta_{3}}\\right\\rangle_{g} \\left\\langle z_{j_{1};\\beta_{1}} z_{j_{2};\\beta_{4}}\\right\\rangle_{g} + \\left\\langle z_{i_{1};\\alpha_{1}} z_{j_{1};\\beta_{2}}\\right\\rangle_{g} \\left\\langle z_{i_{2};\\alpha_{2}} z_{j_{2};\\beta_{4}}\\right\\rangle_{g} \\left\\langle z_{j_{1};\\beta_{1}} z_{j_{2};\\beta_{3}}\\right\\rangle_{g} + \\left\\langle z_{i_{1};\\alpha_{1}} z_{j_{2};\\beta_{3}}\\right\\rangle_{g} \\left\\langle z_{i_{2};\\alpha_{2}} z_{j_{1};\\beta_{1}}\\right\\rangle_{g} \\left\\langle z_{j_{1};\\beta_{2}} z_{j_{2};\\beta_{4}}\\right\\rangle_{g} + \\left\\langle z_{i_{1};\\alpha_{1}} z_{j_{2};\\beta_{3}}\\right\\rangle_{g} \\left\\langle z_{i_{2};\\alpha_{2}} z_{j_{1};\\beta_{2}}\\right\\rangle_{g} \\left\\langle z_{j_{1};\\beta_{1}} z_{j_{2};\\beta_{4}}\\right\\rangle_{g} + \\left\\langle z_{i_{1};\\alpha_{1}} z_{j_{2};\\beta_{3}}\\right\\rangle_{g} \\left\\langle z_{i_{2};\\alpha_{2}} z_{j_{2};\\beta_{4}}\\right\\rangle_{g} \\left\\langle z_{j_{1};\\beta_{1}} z_{j_{1};\\beta_{2}}\\right\\rangle_{g} + \\left\\langle z_{i_{1};\\alpha_{1}} z_{j_{2};\\beta_{4}}\\right\\rangle_{g} \\left\\langle z_{i_{2};\\alpha_{2}} z_{j_{1};\\beta_{1}}\\right\\rangle_{g} \\left\\langle z_{j_{1};\\beta_{2}} z_{j_{2};\\beta_{3}}\\right\\rangle_{g} + \\left\\langle z_{i_{1};\\alpha_{1}} z_{j_{2};\\beta_{4}}\\right\\rangle_{g} \\left\\langle z_{i_{2};\\alpha_{2}} z_{j_{1};\\beta_{2}}\\right\\rangle_{g} \\left\\langle z_{j_{1};\\beta_{1}} z_{j_{2};\\beta_{3}}\\right\\rangle_{g} + \\left\\langle z_{i_{1};\\alpha_{1}} z_{j_{2};\\beta_{4}}\\right\\rangle_{g} \\left\\langle z_{i_{2};\\alpha_{2}} z_{j_{2};\\beta_{3}}\\right\\rangle_{g} \\left\\langle z_{j_{1};\\beta_{1}} z_{j_{1};\\beta_{2}}\\right\\rangle_{g}\\right) v^{\\beta_{1}\\beta_{2}\\beta_{3}\\beta_{4}}}{8} + \\sum_{\\substack{1 \\leq j_{1} \\leq n\\\\1 \\leq j_{2} \\leq n\\\\1 \\leq \\beta_{1} \\leq N_{D}\\\\1 \\leq \\beta_{2} \\leq N_{D}\\\\1 \\leq \\beta_{3} \\leq N_{D}\\\\1 \\leq \\beta_{4} \\leq N_{D}}} - \\frac{\\left(\\left\\langle z_{j_{1};\\beta_{1}} z_{j_{1};\\beta_{2}}\\right\\rangle_{g} \\left\\langle z_{j_{2};\\beta_{3}} z_{j_{2};\\beta_{4}}\\right\\rangle_{g} + \\left\\langle z_{j_{1};\\beta_{1}} z_{j_{2};\\beta_{3}}\\right\\rangle_{g} \\left\\langle z_{j_{1};\\beta_{2}} z_{j_{2};\\beta_{4}}\\right\\rangle_{g} + \\left\\langle z_{j_{1};\\beta_{1}} z_{j_{2};\\beta_{4}}\\right\\rangle_{g} \\left\\langle z_{j_{1};\\beta_{2}} z_{j_{2};\\beta_{3}}\\right\\rangle_{g}\\right) \\left\\langle z_{i_{1};\\alpha_{1}} z_{i_{2};\\alpha_{2}}\\right\\rangle_{g} v^{\\beta_{1}\\beta_{2}\\beta_{3}\\beta_{4}}}{8}\\right) + O\\left(\\epsilon^{2}\\right)$"
      ],
      "text/plain": [
       "⟨z[i1, alpha1]*z[i2, alpha2]⟩_g + epsilon*(Sum((⟨z[i1, alpha1]*z[i2, alpha2]⟩_g*⟨z[j1, beta1]*z[j1, beta2]⟩_g*⟨z[j2, beta3]*z[j2, beta4]⟩_g + ⟨z[i1, alpha1]*z[i2, alpha2]⟩_g*⟨z[j1, beta1]*z[j2, beta3]⟩_g*⟨z[j1, beta2]*z[j2, beta4]⟩_g + ⟨z[i1, alpha1]*z[i2, alpha2]⟩_g*⟨z[j1, beta1]*z[j2, beta4]⟩_g*⟨z[j1, beta2]*z[j2, beta3]⟩_g + ⟨z[i1, alpha1]*z[j1, beta1]⟩_g*⟨z[i2, alpha2]*z[j1, beta2]⟩_g*⟨z[j2, beta3]*z[j2, beta4]⟩_g + ⟨z[i1, alpha1]*z[j1, beta1]⟩_g*⟨z[i2, alpha2]*z[j2, beta3]⟩_g*⟨z[j1, beta2]*z[j2, beta4]⟩_g + ⟨z[i1, alpha1]*z[j1, beta1]⟩_g*⟨z[i2, alpha2]*z[j2, beta4]⟩_g*⟨z[j1, beta2]*z[j2, beta3]⟩_g + ⟨z[i1, alpha1]*z[j1, beta2]⟩_g*⟨z[i2, alpha2]*z[j1, beta1]⟩_g*⟨z[j2, beta3]*z[j2, beta4]⟩_g + ⟨z[i1, alpha1]*z[j1, beta2]⟩_g*⟨z[i2, alpha2]*z[j2, beta3]⟩_g*⟨z[j1, beta1]*z[j2, beta4]⟩_g + ⟨z[i1, alpha1]*z[j1, beta2]⟩_g*⟨z[i2, alpha2]*z[j2, beta4]⟩_g*⟨z[j1, beta1]*z[j2, beta3]⟩_g + ⟨z[i1, alpha1]*z[j2, beta3]⟩_g*⟨z[i2, alpha2]*z[j1, beta1]⟩_g*⟨z[j1, beta2]*z[j2, beta4]⟩_g + ⟨z[i1, alpha1]*z[j2, beta3]⟩_g*⟨z[i2, alpha2]*z[j1, beta2]⟩_g*⟨z[j1, beta1]*z[j2, beta4]⟩_g + ⟨z[i1, alpha1]*z[j2, beta3]⟩_g*⟨z[i2, alpha2]*z[j2, beta4]⟩_g*⟨z[j1, beta1]*z[j1, beta2]⟩_g + ⟨z[i1, alpha1]*z[j2, beta4]⟩_g*⟨z[i2, alpha2]*z[j1, beta1]⟩_g*⟨z[j1, beta2]*z[j2, beta3]⟩_g + ⟨z[i1, alpha1]*z[j2, beta4]⟩_g*⟨z[i2, alpha2]*z[j1, beta2]⟩_g*⟨z[j1, beta1]*z[j2, beta3]⟩_g + ⟨z[i1, alpha1]*z[j2, beta4]⟩_g*⟨z[i2, alpha2]*z[j2, beta3]⟩_g*⟨z[j1, beta1]*z[j1, beta2]⟩_g)*v[beta1, beta2, beta3, beta4]/8, (j1, 1, n), (j2, 1, n), (beta1, 1, N_D), (beta2, 1, N_D), (beta3, 1, N_D), (beta4, 1, N_D)) + Sum(-(⟨z[j1, beta1]*z[j1, beta2]⟩_g*⟨z[j2, beta3]*z[j2, beta4]⟩_g + ⟨z[j1, beta1]*z[j2, beta3]⟩_g*⟨z[j1, beta2]*z[j2, beta4]⟩_g + ⟨z[j1, beta1]*z[j2, beta4]⟩_g*⟨z[j1, beta2]*z[j2, beta3]⟩_g)*⟨z[i1, alpha1]*z[i2, alpha2]⟩_g*v[beta1, beta2, beta3, beta4]/8, (j1, 1, n), (j2, 1, n), (beta1, 1, N_D), (beta2, 1, N_D), (beta3, 1, N_D), (beta4, 1, N_D))) + O(epsilon**2)"
      ]
     },
     "execution_count": 11,
     "metadata": {},
     "output_type": "execute_result"
    }
   ],
   "source": [
    "Ezz = sml.wick_contraction(Ezz)\n",
    "Ezz"
   ]
  },
  {
   "cell_type": "code",
   "execution_count": 12,
   "id": "21520e1d",
   "metadata": {},
   "outputs": [
    {
     "data": {
      "text/latex": [
       "$\\displaystyle \\delta_{i_{1} i_{2}} g_{\\alpha_{1}\\alpha_{2}} + \\epsilon \\left(\\sum_{\\substack{1 \\leq j_{1} \\leq n\\\\1 \\leq j_{2} \\leq n\\\\1 \\leq \\beta_{1} \\leq N_{D}\\\\1 \\leq \\beta_{2} \\leq N_{D}\\\\1 \\leq \\beta_{3} \\leq N_{D}\\\\1 \\leq \\beta_{4} \\leq N_{D}}} \\frac{\\left(\\delta_{i_{1} i_{2}} \\delta_{j_{1} j_{2}} g_{\\alpha_{1}\\alpha_{2}} g_{\\beta_{1}\\beta_{3}} g_{\\beta_{2}\\beta_{4}} + \\delta_{i_{1} i_{2}} \\delta_{j_{1} j_{2}} g_{\\alpha_{1}\\alpha_{2}} g_{\\beta_{1}\\beta_{4}} g_{\\beta_{2}\\beta_{3}} + \\delta_{i_{1} i_{2}} g_{\\alpha_{1}\\alpha_{2}} g_{\\beta_{1}\\beta_{2}} g_{\\beta_{3}\\beta_{4}} + \\delta_{i_{1} j_{1}} \\delta_{i_{2} j_{1}} g_{\\alpha_{1}\\beta_{1}} g_{\\alpha_{2}\\beta_{2}} g_{\\beta_{3}\\beta_{4}} + \\delta_{i_{1} j_{1}} \\delta_{i_{2} j_{1}} g_{\\alpha_{1}\\beta_{2}} g_{\\alpha_{2}\\beta_{1}} g_{\\beta_{3}\\beta_{4}} + \\delta_{i_{1} j_{1}} \\delta_{i_{2} j_{2}} \\delta_{j_{1} j_{2}} g_{\\alpha_{1}\\beta_{1}} g_{\\alpha_{2}\\beta_{3}} g_{\\beta_{2}\\beta_{4}} + \\delta_{i_{1} j_{1}} \\delta_{i_{2} j_{2}} \\delta_{j_{1} j_{2}} g_{\\alpha_{1}\\beta_{1}} g_{\\alpha_{2}\\beta_{4}} g_{\\beta_{2}\\beta_{3}} + \\delta_{i_{1} j_{1}} \\delta_{i_{2} j_{2}} \\delta_{j_{1} j_{2}} g_{\\alpha_{1}\\beta_{2}} g_{\\alpha_{2}\\beta_{3}} g_{\\beta_{1}\\beta_{4}} + \\delta_{i_{1} j_{1}} \\delta_{i_{2} j_{2}} \\delta_{j_{1} j_{2}} g_{\\alpha_{1}\\beta_{2}} g_{\\alpha_{2}\\beta_{4}} g_{\\beta_{1}\\beta_{3}} + \\delta_{i_{1} j_{2}} \\delta_{i_{2} j_{1}} \\delta_{j_{1} j_{2}} g_{\\alpha_{1}\\beta_{3}} g_{\\alpha_{2}\\beta_{1}} g_{\\beta_{2}\\beta_{4}} + \\delta_{i_{1} j_{2}} \\delta_{i_{2} j_{1}} \\delta_{j_{1} j_{2}} g_{\\alpha_{1}\\beta_{3}} g_{\\alpha_{2}\\beta_{2}} g_{\\beta_{1}\\beta_{4}} + \\delta_{i_{1} j_{2}} \\delta_{i_{2} j_{1}} \\delta_{j_{1} j_{2}} g_{\\alpha_{1}\\beta_{4}} g_{\\alpha_{2}\\beta_{1}} g_{\\beta_{2}\\beta_{3}} + \\delta_{i_{1} j_{2}} \\delta_{i_{2} j_{1}} \\delta_{j_{1} j_{2}} g_{\\alpha_{1}\\beta_{4}} g_{\\alpha_{2}\\beta_{2}} g_{\\beta_{1}\\beta_{3}} + \\delta_{i_{1} j_{2}} \\delta_{i_{2} j_{2}} g_{\\alpha_{1}\\beta_{3}} g_{\\alpha_{2}\\beta_{4}} g_{\\beta_{1}\\beta_{2}} + \\delta_{i_{1} j_{2}} \\delta_{i_{2} j_{2}} g_{\\alpha_{1}\\beta_{4}} g_{\\alpha_{2}\\beta_{3}} g_{\\beta_{1}\\beta_{2}}\\right) v^{\\beta_{1}\\beta_{2}\\beta_{3}\\beta_{4}}}{8} + \\sum_{\\substack{1 \\leq j_{1} \\leq n\\\\1 \\leq j_{2} \\leq n\\\\1 \\leq \\beta_{1} \\leq N_{D}\\\\1 \\leq \\beta_{2} \\leq N_{D}\\\\1 \\leq \\beta_{3} \\leq N_{D}\\\\1 \\leq \\beta_{4} \\leq N_{D}}} - \\frac{\\left(\\delta_{j_{1} j_{2}} g_{\\beta_{1}\\beta_{3}} g_{\\beta_{2}\\beta_{4}} + \\delta_{j_{1} j_{2}} g_{\\beta_{1}\\beta_{4}} g_{\\beta_{2}\\beta_{3}} + g_{\\beta_{1}\\beta_{2}} g_{\\beta_{3}\\beta_{4}}\\right) \\delta_{i_{1} i_{2}} g_{\\alpha_{1}\\alpha_{2}} v^{\\beta_{1}\\beta_{2}\\beta_{3}\\beta_{4}}}{8}\\right) + O\\left(\\epsilon^{2}\\right)$"
      ],
      "text/plain": [
       "KroneckerDelta(i1, i2)*g[alpha1, alpha2] + epsilon*(Sum((KroneckerDelta(i1, i2)*KroneckerDelta(j1, j2)*g[alpha1, alpha2]*g[beta1, beta3]*g[beta2, beta4] + KroneckerDelta(i1, i2)*KroneckerDelta(j1, j2)*g[alpha1, alpha2]*g[beta1, beta4]*g[beta2, beta3] + KroneckerDelta(i1, i2)*g[alpha1, alpha2]*g[beta1, beta2]*g[beta3, beta4] + KroneckerDelta(i1, j1)*KroneckerDelta(i2, j1)*g[alpha1, beta1]*g[alpha2, beta2]*g[beta3, beta4] + KroneckerDelta(i1, j1)*KroneckerDelta(i2, j1)*g[alpha1, beta2]*g[alpha2, beta1]*g[beta3, beta4] + KroneckerDelta(i1, j1)*KroneckerDelta(i2, j2)*KroneckerDelta(j1, j2)*g[alpha1, beta1]*g[alpha2, beta3]*g[beta2, beta4] + KroneckerDelta(i1, j1)*KroneckerDelta(i2, j2)*KroneckerDelta(j1, j2)*g[alpha1, beta1]*g[alpha2, beta4]*g[beta2, beta3] + KroneckerDelta(i1, j1)*KroneckerDelta(i2, j2)*KroneckerDelta(j1, j2)*g[alpha1, beta2]*g[alpha2, beta3]*g[beta1, beta4] + KroneckerDelta(i1, j1)*KroneckerDelta(i2, j2)*KroneckerDelta(j1, j2)*g[alpha1, beta2]*g[alpha2, beta4]*g[beta1, beta3] + KroneckerDelta(i1, j2)*KroneckerDelta(i2, j1)*KroneckerDelta(j1, j2)*g[alpha1, beta3]*g[alpha2, beta1]*g[beta2, beta4] + KroneckerDelta(i1, j2)*KroneckerDelta(i2, j1)*KroneckerDelta(j1, j2)*g[alpha1, beta3]*g[alpha2, beta2]*g[beta1, beta4] + KroneckerDelta(i1, j2)*KroneckerDelta(i2, j1)*KroneckerDelta(j1, j2)*g[alpha1, beta4]*g[alpha2, beta1]*g[beta2, beta3] + KroneckerDelta(i1, j2)*KroneckerDelta(i2, j1)*KroneckerDelta(j1, j2)*g[alpha1, beta4]*g[alpha2, beta2]*g[beta1, beta3] + KroneckerDelta(i1, j2)*KroneckerDelta(i2, j2)*g[alpha1, beta3]*g[alpha2, beta4]*g[beta1, beta2] + KroneckerDelta(i1, j2)*KroneckerDelta(i2, j2)*g[alpha1, beta4]*g[alpha2, beta3]*g[beta1, beta2])*v[beta1, beta2, beta3, beta4]/8, (j1, 1, n), (j2, 1, n), (beta1, 1, N_D), (beta2, 1, N_D), (beta3, 1, N_D), (beta4, 1, N_D)) + Sum(-(KroneckerDelta(j1, j2)*g[beta1, beta3]*g[beta2, beta4] + KroneckerDelta(j1, j2)*g[beta1, beta4]*g[beta2, beta3] + g[beta1, beta2]*g[beta3, beta4])*KroneckerDelta(i1, i2)*g[alpha1, alpha2]*v[beta1, beta2, beta3, beta4]/8, (j1, 1, n), (j2, 1, n), (beta1, 1, N_D), (beta2, 1, N_D), (beta3, 1, N_D), (beta4, 1, N_D))) + O(epsilon**2)"
      ]
     },
     "execution_count": 12,
     "metadata": {},
     "output_type": "execute_result"
    }
   ],
   "source": [
    "A, B, C, D = sml.wilds(\"A, B, C, D\")\n",
    "gaussian_rule = {Eg(z[A, B] * z[C, D]): sp.KroneckerDelta(A, C) * g[B, D]}\n",
    "Ezz = sml.wild_subs(Ezz, gaussian_rule)\n",
    "Ezz"
   ]
  },
  {
   "cell_type": "code",
   "execution_count": 13,
   "id": "4efe4b03",
   "metadata": {},
   "outputs": [
    {
     "data": {
      "text/latex": [
       "$\\displaystyle \\delta_{i_{1} i_{2}} g_{\\alpha_{1}\\alpha_{2}} + \\epsilon \\sum_{\\substack{1 \\leq \\beta_{1} \\leq N_{D}\\\\1 \\leq \\beta_{2} \\leq N_{D}\\\\1 \\leq \\beta_{3} \\leq N_{D}\\\\1 \\leq \\beta_{4} \\leq N_{D}\\\\1 \\leq j_{1} \\leq n\\\\1 \\leq j_{2} \\leq n}} \\delta_{i_{1} j_{1}} \\delta_{i_{2} j_{2}} \\delta_{j_{1} j_{2}} g_{\\alpha_{1}\\beta_{1}} g_{\\alpha_{2}\\beta_{2}} g_{\\beta_{3}\\beta_{4}} v^{\\beta_{1}\\beta_{3}\\beta_{2}\\beta_{4}} + \\frac{\\epsilon \\sum_{\\substack{1 \\leq \\beta_{1} \\leq N_{D}\\\\1 \\leq \\beta_{2} \\leq N_{D}\\\\1 \\leq \\beta_{3} \\leq N_{D}\\\\1 \\leq \\beta_{4} \\leq N_{D}\\\\1 \\leq j_{1} \\leq n\\\\1 \\leq j_{2} \\leq n}} \\delta_{i_{1} j_{1}} \\delta_{i_{2} j_{1}} g_{\\alpha_{1}\\beta_{1}} g_{\\alpha_{2}\\beta_{2}} g_{\\beta_{3}\\beta_{4}} v^{\\beta_{1}\\beta_{2}\\beta_{3}\\beta_{4}}}{2} + O\\left(\\epsilon^{2}\\right)$"
      ],
      "text/plain": [
       "KroneckerDelta(i1, i2)*g[alpha1, alpha2] + epsilon*Sum(KroneckerDelta(i1, j1)*KroneckerDelta(i2, j2)*KroneckerDelta(j1, j2)*g[alpha1, beta1]*g[alpha2, beta2]*g[beta3, beta4]*v[beta1, beta3, beta2, beta4], (beta1, 1, N_D), (beta2, 1, N_D), (beta3, 1, N_D), (beta4, 1, N_D), (j1, 1, n), (j2, 1, n)) + epsilon*Sum(KroneckerDelta(i1, j1)*KroneckerDelta(i2, j1)*g[alpha1, beta1]*g[alpha2, beta2]*g[beta3, beta4]*v[beta1, beta2, beta3, beta4], (beta1, 1, N_D), (beta2, 1, N_D), (beta3, 1, N_D), (beta4, 1, N_D), (j1, 1, n), (j2, 1, n))/2 + O(epsilon**2)"
      ]
     },
     "execution_count": 13,
     "metadata": {},
     "output_type": "execute_result"
    }
   ],
   "source": [
    "Ezz = sml.canonicalize_dummy_indices(sp.expand(Ezz))\n",
    "Ezz = sml.pull_coef_out_sum(Ezz)\n",
    "Ezz"
   ]
  },
  {
   "cell_type": "code",
   "execution_count": 14,
   "id": "f84fb962",
   "metadata": {},
   "outputs": [
    {
     "data": {
      "text/latex": [
       "$\\displaystyle \\delta_{i_{1} i_{2}} g_{\\alpha_{1}\\alpha_{2}} + \\frac{\\epsilon \\sum_{\\substack{1 \\leq \\beta_{1} \\leq N_{D}\\\\1 \\leq \\beta_{2} \\leq N_{D}\\\\1 \\leq \\beta_{3} \\leq N_{D}\\\\1 \\leq \\beta_{4} \\leq N_{D}\\\\1 \\leq j_{1} \\leq n\\\\1 \\leq j_{2} \\leq n}} \\delta_{i_{1} j_{1}} \\delta_{i_{2} j_{1}} g_{\\alpha_{1}\\beta_{1}} g_{\\alpha_{2}\\beta_{2}} g_{\\beta_{3}\\beta_{4}} v^{\\beta_{1}\\beta_{2}\\beta_{3}\\beta_{4}}}{2} + \\epsilon \\sum_{\\substack{1 \\leq \\beta_{1} \\leq N_{D}\\\\1 \\leq \\beta_{2} \\leq N_{D}\\\\1 \\leq \\beta_{3} \\leq N_{D}\\\\1 \\leq \\beta_{4} \\leq N_{D}\\\\1 \\leq j_{1} \\leq n}} \\delta_{i_{1} j_{1}} \\delta_{i_{2} j_{1}} g_{\\alpha_{1}\\beta_{1}} g_{\\alpha_{2}\\beta_{2}} g_{\\beta_{3}\\beta_{4}} v^{\\beta_{1}\\beta_{3}\\beta_{2}\\beta_{4}} + O\\left(\\epsilon^{2}\\right)$"
      ],
      "text/plain": [
       "KroneckerDelta(i1, i2)*g[alpha1, alpha2] + epsilon*Sum(KroneckerDelta(i1, j1)*KroneckerDelta(i2, j1)*g[alpha1, beta1]*g[alpha2, beta2]*g[beta3, beta4]*v[beta1, beta2, beta3, beta4], (beta1, 1, N_D), (beta2, 1, N_D), (beta3, 1, N_D), (beta4, 1, N_D), (j1, 1, n), (j2, 1, n))/2 + epsilon*Sum(KroneckerDelta(i1, j1)*KroneckerDelta(i2, j1)*g[alpha1, beta1]*g[alpha2, beta2]*g[beta3, beta4]*v[beta1, beta3, beta2, beta4], (beta1, 1, N_D), (beta2, 1, N_D), (beta3, 1, N_D), (beta4, 1, N_D), (j1, 1, n)) + O(epsilon**2)"
      ]
     },
     "execution_count": 14,
     "metadata": {},
     "output_type": "execute_result"
    }
   ],
   "source": [
    "Ezz = sml.sum_kronecker_contract(Ezz)\n",
    "Ezz"
   ]
  },
  {
   "cell_type": "code",
   "execution_count": 15,
   "id": "93a89822",
   "metadata": {},
   "outputs": [
    {
     "data": {
      "text/latex": [
       "$\\displaystyle \\delta_{i_{1} i_{2}} g_{\\alpha_{1}\\alpha_{2}} + \\frac{\\epsilon \\sum_{\\substack{1 \\leq \\beta_{1} \\leq N_{D}\\\\1 \\leq \\beta_{2} \\leq N_{D}\\\\1 \\leq \\beta_{3} \\leq N_{D}\\\\1 \\leq \\beta_{4} \\leq N_{D}\\\\1 \\leq j_{1} \\leq n\\\\1 \\leq j_{2} \\leq n}} \\delta_{i_{1} j_{1}} \\delta_{i_{2} j_{1}} g_{\\alpha_{1}\\beta_{1}} g_{\\alpha_{2}\\beta_{2}} g_{\\beta_{3}\\beta_{4}} v^{\\beta_{1}\\beta_{2}\\beta_{3}\\beta_{4}}}{2} + \\epsilon \\sum_{\\substack{1 \\leq \\beta_{1} \\leq N_{D}\\\\1 \\leq \\beta_{2} \\leq N_{D}\\\\1 \\leq \\beta_{3} \\leq N_{D}\\\\1 \\leq \\beta_{4} \\leq N_{D}\\\\1 \\leq j_{1} \\leq n}} \\delta_{i_{1} j_{1}} \\delta_{i_{2} j_{1}} g_{\\alpha_{1}\\beta_{1}} g_{\\alpha_{2}\\beta_{2}} g_{\\beta_{3}\\beta_{4}} v^{\\beta_{1}\\beta_{3}\\beta_{2}\\beta_{4}} + O\\left(\\epsilon^{2}\\right)$"
      ],
      "text/plain": [
       "KroneckerDelta(i1, i2)*g[alpha1, alpha2] + epsilon*Sum(KroneckerDelta(i1, j1)*KroneckerDelta(i2, j1)*g[alpha1, beta1]*g[alpha2, beta2]*g[beta3, beta4]*v[beta1, beta2, beta3, beta4], (beta1, 1, N_D), (beta2, 1, N_D), (beta3, 1, N_D), (beta4, 1, N_D), (j1, 1, n), (j2, 1, n))/2 + epsilon*Sum(KroneckerDelta(i1, j1)*KroneckerDelta(i2, j1)*g[alpha1, beta1]*g[alpha2, beta2]*g[beta3, beta4]*v[beta1, beta3, beta2, beta4], (beta1, 1, N_D), (beta2, 1, N_D), (beta3, 1, N_D), (beta4, 1, N_D), (j1, 1, n)) + O(epsilon**2)"
      ]
     },
     "execution_count": 15,
     "metadata": {},
     "output_type": "execute_result"
    }
   ],
   "source": [
    "Ezz"
   ]
  },
  {
   "cell_type": "code",
   "execution_count": null,
   "id": "4c64199d",
   "metadata": {},
   "outputs": [],
   "source": []
  },
  {
   "cell_type": "markdown",
   "id": "93423499",
   "metadata": {},
   "source": [
    "The joint distribution of preactivations in the ﬁrst and second layers is:\n",
    "\n",
    "$$p\\left(z^{(2)}, z^{(1)} \\mid \\mathcal{D} \\right) = p\\left(z^{(2)} \\mid z^{(1)} \\right) p\\left(z^{(1)} \\mid \\mathcal{D} \\right)\n",
    "$$\n",
    "\n",
    "The marginal distribution of the second-layer preactivations can then be obtained by **marginalizing over** or **integrating out** the ﬁrst-layer\n",
    "preactivations:\n",
    "\n",
    "$$p\\left(z^{(2)} \\mid \\mathcal{D} \\right) = \\int \\left[ \\prod_{i, \\alpha} dz^{(1)}_{i;\\alpha} \\right] p\\left(z^{(2)} \\mid z^{(1)} \\right) p\\left(z^{(1)} \\mid \\mathcal{D} \\right)\n",
    "$$\n",
    "\n",
    "- The ﬁrst-layer marginal distribution is:\n",
    "\n",
    "$$p\\left(z^{(1)} \\mid \\mathcal{D} \\right) = \\frac{1}{\\left| 2\\pi G^{(1)} \\right|^{n_1 / 2}} \\exp\\left( -\\frac{1}{2} \\sum_{i=1}^{n_1} \\sum_{\\alpha_1, \\alpha_2 \\in \\mathcal{D}} G^{\\alpha_1 \\alpha_2}_{(1)} z^{(1)}_{i; \\alpha_1} z^{(1)}_{i; \\alpha_2} \\right)\n",
    "$$\n",
    "\n",
    "- The conditional distribution is:\n",
    "\n",
    "$$p\\left(z^{(2)} \\mid z^{(1)} \\right) = \\frac{1}{\\left| 2\\pi \\widehat{G}^{(2)} \\right|^{n_2/2}} \\exp\\left( -\\frac{1}{2} \\sum_{i=1}^{n_2} \\sum_{\\alpha_1, \\alpha_2 \\in \\mathcal{D}} \\widehat{G}^{\\alpha_1 \\alpha_2}_{(2)} z^{(2)}_{i; \\alpha_1} z^{(2)}_{i; \\alpha_2} \\right)$$\n",
    "\n",
    "where $\\widehat{G}^{(2)}_{\\alpha_1 \\alpha_2} \\equiv C^{(2)}_b + C^{(2)}_W \\frac{1}{n_1} \\sum_{j=1}^{n_1} \\sigma^{(1)}_{j; \\alpha_1} \\sigma^{(1)}_{j; \\alpha_2}$ is *stochastic* second-layer metric\n",
    "\n"
   ]
  }
 ],
 "metadata": {
  "kernelspec": {
   "display_name": "qml",
   "language": "python",
   "name": "python3"
  },
  "language_info": {
   "codemirror_mode": {
    "name": "ipython",
    "version": 3
   },
   "file_extension": ".py",
   "mimetype": "text/x-python",
   "name": "python",
   "nbconvert_exporter": "python",
   "pygments_lexer": "ipython3",
   "version": "3.12.10"
  }
 },
 "nbformat": 4,
 "nbformat_minor": 5
}
